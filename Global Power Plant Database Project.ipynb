{
 "cells": [
  {
   "cell_type": "markdown",
   "metadata": {},
   "source": [
    "# Global Power Plant Database Project"
   ]
  },
  {
   "cell_type": "raw",
   "metadata": {},
   "source": [
    "Problem Statement:\n",
    "Description\n",
    "The Global Power Plant Database is a comprehensive, open source database of power plants around the world. It centralizes power plant data to make it easier to navigate, compare and draw insights for one’s own analysis. The database covers approximately 35,000 power plants from 167 countries and includes thermal plants (e.g. coal, gas, oil, nuclear, biomass, waste, geothermal) and renewables (e.g. hydro, wind, solar). Each power plant is geolocated and entries contain information on plant capacity, generation, ownership, and fuel type. It will be continuously updated as data becomes available.\n",
    "Key attributes of the database\n",
    "The database includes the following indicators:\n",
    "•\t\n",
    "•\t`country` (text): 3 character country code corresponding to the ISO 3166-1 alpha-3 specification [5]\n",
    "•\t`country_long` (text): longer form of the country designation\n",
    "•\t`name` (text): name or title of the power plant, generally in Romanized form\n",
    "•\t`gppd_idnr` (text): 10 or 12 character identifier for the power plant\n",
    "•\t`capacity_mw` (number): electrical generating capacity in megawatts\n",
    "•\t`latitude` (number): geolocation in decimal degrees; WGS84 (EPSG:4326)\n",
    "•\t`longitude` (number): geolocation in decimal degrees; WGS84 (EPSG:4326)\n",
    "•\t`primary_fuel` (text): energy source used in primary electricity generation or export\n",
    "•\t`other_fuel1` (text): energy source used in electricity generation or export\n",
    "•\t`other_fuel2` (text): energy source used in electricity generation or export\n",
    "•\t`other_fuel3` (text): energy source used in electricity generation or export\n",
    "•\t `commissioning_year` (number): year of plant operation, weighted by unit-capacity when data is available\n",
    "•\t`owner` (text): majority shareholder of the power plant, generally in Romanized form\n",
    "•\t`source` (text): entity reporting the data; could be an organization, report, or document, generally in Romanized form\n",
    "•\t`url` (text): web document corresponding to the `source` field\n",
    "•\t`geolocation_source` (text): attribution for geolocation information\n",
    "•\t`wepp_id` (text): a reference to a unique plant identifier in the widely-used PLATTS-WEPP database.\n",
    "•\t`year_of_capacity_data` (number): year the capacity information was reported\n",
    "•\t`generation_gwh_2013` (number): electricity generation in gigawatt-hours reported for the year 2013\n",
    "•\t`generation_gwh_2014` (number): electricity generation in gigawatt-hours reported for the year 2014\n",
    "•\t`generation_gwh_2015` (number): electricity generation in gigawatt-hours reported for the year 2015\n",
    "•\t`generation_gwh_2016` (number): electricity generation in gigawatt-hours reported for the year 2016\n",
    "•\t`generation_gwh_2017` (number): electricity generation in gigawatt-hours reported for the year 2017\n",
    "•\t`generation_gwh_2018` (number): electricity generation in gigawatt-hours reported for the year 2018\n",
    "•\t`generation_gwh_2019` (number): electricity generation in gigawatt-hours reported for the year 2019\n",
    "•\t`generation_data_source` (text): attribution for the reported generation information\n",
    "•\t`estimated_generation_gwh_2013` (number): estimated electricity generation in gigawatt-hours for the year 2013\n",
    "•\t`estimated_generation_gwh_2014` (number): estimated electricity generation in gigawatt-hours for the year 2014 \n",
    "•\t`estimated_generation_gwh_2015` (number): estimated electricity generation in gigawatt-hours for the year 2015 \n",
    "•\t`estimated_generation_gwh_2016` (number): estimated electricity generation in gigawatt-hours for the year 2016 \n",
    "•\t`estimated_generation_gwh_2017` (number): estimated electricity generation in gigawatt-hours for the year 2017 \n",
    "•\t'estimated_generation_note_2013` (text): label of the model/method used to estimate generation for the year 2013\n",
    "•\t`estimated_generation_note_2014` (text): label of the model/method used to estimate generation for the year 2014 \n",
    "•\t`estimated_generation_note_2015` (text): label of the model/method used to estimate generation for the year 2015\n",
    "•\t`estimated_generation_note_2016` (text): label of the model/method used to estimate generation for the year 2016\n",
    "•\t`estimated_generation_note_2017` (text): label of the model/method used to estimate generation for the year 2017 \n",
    "Fuel Type Aggregation\n",
    "We define the \"Fuel Type\" attribute of our database based on common fuel categories. \n",
    "Prediction :   Make two prediction  1) Primary Fuel    2) capacity_mw \n"
   ]
  },
  {
   "cell_type": "code",
   "execution_count": 1,
   "metadata": {},
   "outputs": [],
   "source": [
    "# importing different libraries\n",
    "import pandas as pd\n",
    "import numpy as np\n",
    "import seaborn as sns\n",
    "import matplotlib.pyplot as plt\n",
    "\n",
    "import warnings\n",
    "warnings.filterwarnings('ignore')"
   ]
  },
  {
   "cell_type": "code",
   "execution_count": 2,
   "metadata": {},
   "outputs": [],
   "source": [
    "#reading the data set\n",
    "df=pd.read_csv('global_power_plant.csv')"
   ]
  },
  {
   "cell_type": "code",
   "execution_count": 3,
   "metadata": {},
   "outputs": [
    {
     "data": {
      "text/plain": [
       "(908, 25)"
      ]
     },
     "execution_count": 3,
     "metadata": {},
     "output_type": "execute_result"
    }
   ],
   "source": [
    "# Finding out the number of rows and columns in the data set.\n",
    "df.shape "
   ]
  },
  {
   "cell_type": "markdown",
   "metadata": {},
   "source": [
    "From the above Analysis it is clear that the data set contains 908 rows and 25 columns"
   ]
  },
  {
   "cell_type": "code",
   "execution_count": 3,
   "metadata": {},
   "outputs": [
    {
     "data": {
      "text/html": [
       "<div>\n",
       "<style scoped>\n",
       "    .dataframe tbody tr th:only-of-type {\n",
       "        vertical-align: middle;\n",
       "    }\n",
       "\n",
       "    .dataframe tbody tr th {\n",
       "        vertical-align: top;\n",
       "    }\n",
       "\n",
       "    .dataframe thead th {\n",
       "        text-align: right;\n",
       "    }\n",
       "</style>\n",
       "<table border=\"1\" class=\"dataframe\">\n",
       "  <thead>\n",
       "    <tr style=\"text-align: right;\">\n",
       "      <th></th>\n",
       "      <th>country</th>\n",
       "      <th>country_long</th>\n",
       "      <th>name</th>\n",
       "      <th>gppd_idnr</th>\n",
       "      <th>capacity_mw</th>\n",
       "      <th>latitude</th>\n",
       "      <th>longitude</th>\n",
       "      <th>primary_fuel</th>\n",
       "      <th>other_fuel1</th>\n",
       "      <th>other_fuel2</th>\n",
       "      <th>...</th>\n",
       "      <th>geolocation_source</th>\n",
       "      <th>wepp_id</th>\n",
       "      <th>year_of_capacity_data</th>\n",
       "      <th>generation_gwh_2013</th>\n",
       "      <th>generation_gwh_2014</th>\n",
       "      <th>generation_gwh_2015</th>\n",
       "      <th>generation_gwh_2016</th>\n",
       "      <th>generation_gwh_2017</th>\n",
       "      <th>generation_data_source</th>\n",
       "      <th>estimated_generation_gwh</th>\n",
       "    </tr>\n",
       "  </thead>\n",
       "  <tbody>\n",
       "    <tr>\n",
       "      <th>0</th>\n",
       "      <td>IND</td>\n",
       "      <td>India</td>\n",
       "      <td>ACME Solar Tower</td>\n",
       "      <td>WRI1020239</td>\n",
       "      <td>2.5</td>\n",
       "      <td>28.1839</td>\n",
       "      <td>73.2407</td>\n",
       "      <td>Solar</td>\n",
       "      <td>NaN</td>\n",
       "      <td>NaN</td>\n",
       "      <td>...</td>\n",
       "      <td>National Renewable Energy Laboratory</td>\n",
       "      <td>NaN</td>\n",
       "      <td>NaN</td>\n",
       "      <td>NaN</td>\n",
       "      <td>NaN</td>\n",
       "      <td>NaN</td>\n",
       "      <td>NaN</td>\n",
       "      <td>NaN</td>\n",
       "      <td>NaN</td>\n",
       "      <td>NaN</td>\n",
       "    </tr>\n",
       "    <tr>\n",
       "      <th>1</th>\n",
       "      <td>IND</td>\n",
       "      <td>India</td>\n",
       "      <td>ADITYA CEMENT WORKS</td>\n",
       "      <td>WRI1019881</td>\n",
       "      <td>98.0</td>\n",
       "      <td>24.7663</td>\n",
       "      <td>74.6090</td>\n",
       "      <td>Coal</td>\n",
       "      <td>NaN</td>\n",
       "      <td>NaN</td>\n",
       "      <td>...</td>\n",
       "      <td>WRI</td>\n",
       "      <td>NaN</td>\n",
       "      <td>NaN</td>\n",
       "      <td>NaN</td>\n",
       "      <td>NaN</td>\n",
       "      <td>NaN</td>\n",
       "      <td>NaN</td>\n",
       "      <td>NaN</td>\n",
       "      <td>NaN</td>\n",
       "      <td>NaN</td>\n",
       "    </tr>\n",
       "    <tr>\n",
       "      <th>2</th>\n",
       "      <td>IND</td>\n",
       "      <td>India</td>\n",
       "      <td>AES Saurashtra Windfarms</td>\n",
       "      <td>WRI1026669</td>\n",
       "      <td>39.2</td>\n",
       "      <td>21.9038</td>\n",
       "      <td>69.3732</td>\n",
       "      <td>Wind</td>\n",
       "      <td>NaN</td>\n",
       "      <td>NaN</td>\n",
       "      <td>...</td>\n",
       "      <td>WRI</td>\n",
       "      <td>NaN</td>\n",
       "      <td>NaN</td>\n",
       "      <td>NaN</td>\n",
       "      <td>NaN</td>\n",
       "      <td>NaN</td>\n",
       "      <td>NaN</td>\n",
       "      <td>NaN</td>\n",
       "      <td>NaN</td>\n",
       "      <td>NaN</td>\n",
       "    </tr>\n",
       "    <tr>\n",
       "      <th>3</th>\n",
       "      <td>IND</td>\n",
       "      <td>India</td>\n",
       "      <td>AGARTALA GT</td>\n",
       "      <td>IND0000001</td>\n",
       "      <td>135.0</td>\n",
       "      <td>23.8712</td>\n",
       "      <td>91.3602</td>\n",
       "      <td>Gas</td>\n",
       "      <td>NaN</td>\n",
       "      <td>NaN</td>\n",
       "      <td>...</td>\n",
       "      <td>WRI</td>\n",
       "      <td>NaN</td>\n",
       "      <td>2018.0</td>\n",
       "      <td>631.777928</td>\n",
       "      <td>617.789264</td>\n",
       "      <td>843.747</td>\n",
       "      <td>886.004428</td>\n",
       "      <td>663.774500</td>\n",
       "      <td>Central Electricity Authority</td>\n",
       "      <td>NaN</td>\n",
       "    </tr>\n",
       "    <tr>\n",
       "      <th>4</th>\n",
       "      <td>IND</td>\n",
       "      <td>India</td>\n",
       "      <td>AKALTARA TPP</td>\n",
       "      <td>IND0000002</td>\n",
       "      <td>1800.0</td>\n",
       "      <td>21.9603</td>\n",
       "      <td>82.4091</td>\n",
       "      <td>Coal</td>\n",
       "      <td>Oil</td>\n",
       "      <td>NaN</td>\n",
       "      <td>...</td>\n",
       "      <td>WRI</td>\n",
       "      <td>NaN</td>\n",
       "      <td>2018.0</td>\n",
       "      <td>1668.290000</td>\n",
       "      <td>3035.550000</td>\n",
       "      <td>5916.370</td>\n",
       "      <td>6243.000000</td>\n",
       "      <td>5385.579736</td>\n",
       "      <td>Central Electricity Authority</td>\n",
       "      <td>NaN</td>\n",
       "    </tr>\n",
       "  </tbody>\n",
       "</table>\n",
       "<p>5 rows × 25 columns</p>\n",
       "</div>"
      ],
      "text/plain": [
       "  country country_long                      name   gppd_idnr  capacity_mw  \\\n",
       "0     IND        India          ACME Solar Tower  WRI1020239          2.5   \n",
       "1     IND        India       ADITYA CEMENT WORKS  WRI1019881         98.0   \n",
       "2     IND        India  AES Saurashtra Windfarms  WRI1026669         39.2   \n",
       "3     IND        India               AGARTALA GT  IND0000001        135.0   \n",
       "4     IND        India              AKALTARA TPP  IND0000002       1800.0   \n",
       "\n",
       "   latitude  longitude primary_fuel other_fuel1 other_fuel2  ...  \\\n",
       "0   28.1839    73.2407        Solar         NaN         NaN  ...   \n",
       "1   24.7663    74.6090         Coal         NaN         NaN  ...   \n",
       "2   21.9038    69.3732         Wind         NaN         NaN  ...   \n",
       "3   23.8712    91.3602          Gas         NaN         NaN  ...   \n",
       "4   21.9603    82.4091         Coal         Oil         NaN  ...   \n",
       "\n",
       "                     geolocation_source  wepp_id year_of_capacity_data  \\\n",
       "0  National Renewable Energy Laboratory      NaN                   NaN   \n",
       "1                                   WRI      NaN                   NaN   \n",
       "2                                   WRI      NaN                   NaN   \n",
       "3                                   WRI      NaN                2018.0   \n",
       "4                                   WRI      NaN                2018.0   \n",
       "\n",
       "  generation_gwh_2013 generation_gwh_2014 generation_gwh_2015  \\\n",
       "0                 NaN                 NaN                 NaN   \n",
       "1                 NaN                 NaN                 NaN   \n",
       "2                 NaN                 NaN                 NaN   \n",
       "3          631.777928          617.789264             843.747   \n",
       "4         1668.290000         3035.550000            5916.370   \n",
       "\n",
       "   generation_gwh_2016  generation_gwh_2017         generation_data_source  \\\n",
       "0                  NaN                  NaN                            NaN   \n",
       "1                  NaN                  NaN                            NaN   \n",
       "2                  NaN                  NaN                            NaN   \n",
       "3           886.004428           663.774500  Central Electricity Authority   \n",
       "4          6243.000000          5385.579736  Central Electricity Authority   \n",
       "\n",
       "   estimated_generation_gwh  \n",
       "0                       NaN  \n",
       "1                       NaN  \n",
       "2                       NaN  \n",
       "3                       NaN  \n",
       "4                       NaN  \n",
       "\n",
       "[5 rows x 25 columns]"
      ]
     },
     "execution_count": 3,
     "metadata": {},
     "output_type": "execute_result"
    }
   ],
   "source": [
    "# Glimpse of the first five rows of the data set\n",
    "df.head()"
   ]
  },
  {
   "cell_type": "markdown",
   "metadata": {},
   "source": [
    "From the above analysis it is clear that there are string values, numerical values and Null values present in the data set"
   ]
  },
  {
   "cell_type": "code",
   "execution_count": 4,
   "metadata": {},
   "outputs": [
    {
     "data": {
      "text/plain": [
       "country                      object\n",
       "country_long                 object\n",
       "name                         object\n",
       "gppd_idnr                    object\n",
       "capacity_mw                 float64\n",
       "latitude                    float64\n",
       "longitude                   float64\n",
       "primary_fuel                 object\n",
       "other_fuel1                  object\n",
       "other_fuel2                  object\n",
       "other_fuel3                 float64\n",
       "commissioning_year          float64\n",
       "owner                        object\n",
       "source                       object\n",
       "url                          object\n",
       "geolocation_source           object\n",
       "wepp_id                     float64\n",
       "year_of_capacity_data       float64\n",
       "generation_gwh_2013         float64\n",
       "generation_gwh_2014         float64\n",
       "generation_gwh_2015         float64\n",
       "generation_gwh_2016         float64\n",
       "generation_gwh_2017         float64\n",
       "generation_data_source       object\n",
       "estimated_generation_gwh    float64\n",
       "dtype: object"
      ]
     },
     "execution_count": 4,
     "metadata": {},
     "output_type": "execute_result"
    }
   ],
   "source": [
    "df.dtypes"
   ]
  },
  {
   "cell_type": "markdown",
   "metadata": {},
   "source": [
    "From the above analysis it is seen that the data set majorly has string values and rest of the values are of float type."
   ]
  },
  {
   "cell_type": "code",
   "execution_count": 6,
   "metadata": {},
   "outputs": [
    {
     "name": "stdout",
     "output_type": "stream",
     "text": [
      "<class 'pandas.core.frame.DataFrame'>\n",
      "RangeIndex: 908 entries, 0 to 907\n",
      "Data columns (total 25 columns):\n",
      " #   Column                    Non-Null Count  Dtype  \n",
      "---  ------                    --------------  -----  \n",
      " 0   country                   908 non-null    object \n",
      " 1   country_long              908 non-null    object \n",
      " 2   name                      908 non-null    object \n",
      " 3   gppd_idnr                 908 non-null    object \n",
      " 4   capacity_mw               908 non-null    float64\n",
      " 5   latitude                  862 non-null    float64\n",
      " 6   longitude                 862 non-null    float64\n",
      " 7   primary_fuel              908 non-null    object \n",
      " 8   other_fuel1               199 non-null    object \n",
      " 9   other_fuel2               1 non-null      object \n",
      " 10  other_fuel3               0 non-null      float64\n",
      " 11  commissioning_year        528 non-null    float64\n",
      " 12  owner                     342 non-null    object \n",
      " 13  source                    908 non-null    object \n",
      " 14  url                       908 non-null    object \n",
      " 15  geolocation_source        889 non-null    object \n",
      " 16  wepp_id                   0 non-null      float64\n",
      " 17  year_of_capacity_data     520 non-null    float64\n",
      " 18  generation_gwh_2013       384 non-null    float64\n",
      " 19  generation_gwh_2014       401 non-null    float64\n",
      " 20  generation_gwh_2015       425 non-null    float64\n",
      " 21  generation_gwh_2016       437 non-null    float64\n",
      " 22  generation_gwh_2017       443 non-null    float64\n",
      " 23  generation_data_source    450 non-null    object \n",
      " 24  estimated_generation_gwh  0 non-null      float64\n",
      "dtypes: float64(13), object(12)\n",
      "memory usage: 177.5+ KB\n"
     ]
    }
   ],
   "source": [
    "df.info()"
   ]
  },
  {
   "cell_type": "markdown",
   "metadata": {},
   "source": [
    "1. From the above analysis it is clear that few variables are having high null values or even all the values are null, so removing these variable before further analysing the data\n"
   ]
  },
  {
   "cell_type": "markdown",
   "metadata": {},
   "source": [
    "A litte cleaning is required before procedding further for Exploratory data Analysis as in the data set few variables(wepp_id,estimated_generation_gwh) are having all the null values or the majority of the values are null (other_fuel2,other_fuel3,owner). "
   ]
  },
  {
   "cell_type": "code",
   "execution_count": 5,
   "metadata": {},
   "outputs": [],
   "source": [
    "df.drop(['other_fuel2','other_fuel3','owner','wepp_id','estimated_generation_gwh'],axis=1,inplace=True)"
   ]
  },
  {
   "cell_type": "code",
   "execution_count": 7,
   "metadata": {},
   "outputs": [
    {
     "name": "stdout",
     "output_type": "stream",
     "text": [
      "country: ['IND']\n",
      "country_long: ['India']\n",
      "year_of_capacity_data: [  nan 2018.]\n",
      "generaton_data_source: [nan 'Central Electricity Authority']\n"
     ]
    }
   ],
   "source": [
    "# finding the unique values in the perticular columns\n",
    "print('country:',df['country'].unique())\n",
    "print('country_long:',df['country_long'].unique())\n",
    "print('year_of_capacity_data:',df['year_of_capacity_data'].unique())\n",
    "print('generaton_data_source:',df['generation_data_source'].unique())"
   ]
  },
  {
   "cell_type": "markdown",
   "metadata": {},
   "source": [
    "1. The above four variables (country, country_long, year_of_capacity_data, generation_data_source) can be removed as they have the similar value in all the rows.\n",
    "2. The data set have three variables as (name,source,url,geolocation_source,gppd_idnr) which do not have role in fullfilling the current objective, so removing these columns as well."
   ]
  },
  {
   "cell_type": "code",
   "execution_count": 8,
   "metadata": {},
   "outputs": [],
   "source": [
    "# Droping the above specified columns.\n",
    "df.drop(['country','country_long','name','source','url','year_of_capacity_data','generation_data_source','geolocation_source','gppd_idnr'],axis=1,inplace=True)"
   ]
  },
  {
   "cell_type": "markdown",
   "metadata": {},
   "source": [
    "### Exploratory Data analysis (EDA)"
   ]
  },
  {
   "cell_type": "markdown",
   "metadata": {},
   "source": [
    "#### Summary Statistics"
   ]
  },
  {
   "cell_type": "code",
   "execution_count": 9,
   "metadata": {},
   "outputs": [
    {
     "data": {
      "text/html": [
       "<div>\n",
       "<style scoped>\n",
       "    .dataframe tbody tr th:only-of-type {\n",
       "        vertical-align: middle;\n",
       "    }\n",
       "\n",
       "    .dataframe tbody tr th {\n",
       "        vertical-align: top;\n",
       "    }\n",
       "\n",
       "    .dataframe thead th {\n",
       "        text-align: right;\n",
       "    }\n",
       "</style>\n",
       "<table border=\"1\" class=\"dataframe\">\n",
       "  <thead>\n",
       "    <tr style=\"text-align: right;\">\n",
       "      <th></th>\n",
       "      <th>capacity_mw</th>\n",
       "      <th>latitude</th>\n",
       "      <th>longitude</th>\n",
       "      <th>commissioning_year</th>\n",
       "      <th>generation_gwh_2013</th>\n",
       "      <th>generation_gwh_2014</th>\n",
       "      <th>generation_gwh_2015</th>\n",
       "      <th>generation_gwh_2016</th>\n",
       "      <th>generation_gwh_2017</th>\n",
       "    </tr>\n",
       "  </thead>\n",
       "  <tbody>\n",
       "    <tr>\n",
       "      <th>count</th>\n",
       "      <td>908.000000</td>\n",
       "      <td>862.000000</td>\n",
       "      <td>862.000000</td>\n",
       "      <td>528.000000</td>\n",
       "      <td>384.000000</td>\n",
       "      <td>401.000000</td>\n",
       "      <td>425.000000</td>\n",
       "      <td>437.000000</td>\n",
       "      <td>443.000000</td>\n",
       "    </tr>\n",
       "    <tr>\n",
       "      <th>mean</th>\n",
       "      <td>321.046378</td>\n",
       "      <td>21.196189</td>\n",
       "      <td>77.447848</td>\n",
       "      <td>1996.876894</td>\n",
       "      <td>2304.059202</td>\n",
       "      <td>2420.393316</td>\n",
       "      <td>2414.072373</td>\n",
       "      <td>2453.936292</td>\n",
       "      <td>2531.754458</td>\n",
       "    </tr>\n",
       "    <tr>\n",
       "      <th>std</th>\n",
       "      <td>580.221767</td>\n",
       "      <td>6.248627</td>\n",
       "      <td>4.907260</td>\n",
       "      <td>17.047817</td>\n",
       "      <td>3794.767492</td>\n",
       "      <td>4013.558173</td>\n",
       "      <td>4183.203199</td>\n",
       "      <td>4152.038216</td>\n",
       "      <td>4187.236364</td>\n",
       "    </tr>\n",
       "    <tr>\n",
       "      <th>min</th>\n",
       "      <td>0.000000</td>\n",
       "      <td>8.168900</td>\n",
       "      <td>68.644700</td>\n",
       "      <td>1927.000000</td>\n",
       "      <td>0.000000</td>\n",
       "      <td>0.000000</td>\n",
       "      <td>0.000000</td>\n",
       "      <td>0.000000</td>\n",
       "      <td>0.000000</td>\n",
       "    </tr>\n",
       "    <tr>\n",
       "      <th>25%</th>\n",
       "      <td>16.837500</td>\n",
       "      <td>16.771575</td>\n",
       "      <td>74.258975</td>\n",
       "      <td>1988.000000</td>\n",
       "      <td>244.458088</td>\n",
       "      <td>223.650436</td>\n",
       "      <td>174.174750</td>\n",
       "      <td>187.193669</td>\n",
       "      <td>177.643170</td>\n",
       "    </tr>\n",
       "    <tr>\n",
       "      <th>50%</th>\n",
       "      <td>60.000000</td>\n",
       "      <td>21.778300</td>\n",
       "      <td>76.719250</td>\n",
       "      <td>2000.000000</td>\n",
       "      <td>797.063475</td>\n",
       "      <td>805.760000</td>\n",
       "      <td>701.027250</td>\n",
       "      <td>716.728350</td>\n",
       "      <td>807.601700</td>\n",
       "    </tr>\n",
       "    <tr>\n",
       "      <th>75%</th>\n",
       "      <td>388.125000</td>\n",
       "      <td>25.516375</td>\n",
       "      <td>79.441475</td>\n",
       "      <td>2011.250000</td>\n",
       "      <td>2795.021500</td>\n",
       "      <td>3034.575000</td>\n",
       "      <td>3080.000000</td>\n",
       "      <td>3263.483000</td>\n",
       "      <td>3258.785000</td>\n",
       "    </tr>\n",
       "    <tr>\n",
       "      <th>max</th>\n",
       "      <td>4760.000000</td>\n",
       "      <td>34.649000</td>\n",
       "      <td>95.408000</td>\n",
       "      <td>2018.000000</td>\n",
       "      <td>27586.200000</td>\n",
       "      <td>28127.000000</td>\n",
       "      <td>30539.000000</td>\n",
       "      <td>30015.000000</td>\n",
       "      <td>35116.000000</td>\n",
       "    </tr>\n",
       "  </tbody>\n",
       "</table>\n",
       "</div>"
      ],
      "text/plain": [
       "       capacity_mw    latitude   longitude  commissioning_year  \\\n",
       "count   908.000000  862.000000  862.000000          528.000000   \n",
       "mean    321.046378   21.196189   77.447848         1996.876894   \n",
       "std     580.221767    6.248627    4.907260           17.047817   \n",
       "min       0.000000    8.168900   68.644700         1927.000000   \n",
       "25%      16.837500   16.771575   74.258975         1988.000000   \n",
       "50%      60.000000   21.778300   76.719250         2000.000000   \n",
       "75%     388.125000   25.516375   79.441475         2011.250000   \n",
       "max    4760.000000   34.649000   95.408000         2018.000000   \n",
       "\n",
       "       generation_gwh_2013  generation_gwh_2014  generation_gwh_2015  \\\n",
       "count           384.000000           401.000000           425.000000   \n",
       "mean           2304.059202          2420.393316          2414.072373   \n",
       "std            3794.767492          4013.558173          4183.203199   \n",
       "min               0.000000             0.000000             0.000000   \n",
       "25%             244.458088           223.650436           174.174750   \n",
       "50%             797.063475           805.760000           701.027250   \n",
       "75%            2795.021500          3034.575000          3080.000000   \n",
       "max           27586.200000         28127.000000         30539.000000   \n",
       "\n",
       "       generation_gwh_2016  generation_gwh_2017  \n",
       "count           437.000000           443.000000  \n",
       "mean           2453.936292          2531.754458  \n",
       "std            4152.038216          4187.236364  \n",
       "min               0.000000             0.000000  \n",
       "25%             187.193669           177.643170  \n",
       "50%             716.728350           807.601700  \n",
       "75%            3263.483000          3258.785000  \n",
       "max           30015.000000         35116.000000  "
      ]
     },
     "execution_count": 9,
     "metadata": {},
     "output_type": "execute_result"
    }
   ],
   "source": [
    "df.describe()"
   ]
  },
  {
   "cell_type": "markdown",
   "metadata": {},
   "source": [
    "From the above anaysis it is seen that\n",
    "1. In the variable'capacity_mw' the values spreaded in wide range starting from 0 to 4760 and the 75% value is far from the max value, but we cannot consider it as outlier because that might be due to the actual capacity.\n",
    "2. 'Latitude & Longitude' values are having their mean value nearly equal to the median value.\n",
    "3. In 'commisioning_year' variable there are nan values present and that needs to be taken careoff.\n",
    "4. All the generation growth columns are having mean values very far from the median values that might be bause they have maximum values very far from teh 75%. But we cannot remove the far away values as the power plant capacity might might have generation groth in reality."
   ]
  },
  {
   "cell_type": "markdown",
   "metadata": {},
   "source": [
    "#### Analysing one of the target variable'primary_fuel' and another variable 'other_fuel1'."
   ]
  },
  {
   "cell_type": "code",
   "execution_count": 10,
   "metadata": {},
   "outputs": [
    {
     "data": {
      "text/plain": [
       "array(['Solar', 'Coal', 'Wind', 'Gas', 'Hydro', 'Biomass', 'Oil',\n",
       "       'Nuclear'], dtype=object)"
      ]
     },
     "execution_count": 10,
     "metadata": {},
     "output_type": "execute_result"
    }
   ],
   "source": [
    "# Finding out the unique values present in the variable 'primary_fuel'.\n",
    "df.primary_fuel.unique()"
   ]
  },
  {
   "cell_type": "code",
   "execution_count": 11,
   "metadata": {},
   "outputs": [
    {
     "data": {
      "text/plain": [
       "Coal       259\n",
       "Hydro      250\n",
       "Solar      127\n",
       "Wind       123\n",
       "Gas         69\n",
       "Biomass     50\n",
       "Oil         21\n",
       "Nuclear      9\n",
       "Name: primary_fuel, dtype: int64"
      ]
     },
     "execution_count": 11,
     "metadata": {},
     "output_type": "execute_result"
    }
   ],
   "source": [
    "# Finding out the value count of the categories present in the variable'primary_fuel'.\n",
    "df.primary_fuel.value_counts()"
   ]
  },
  {
   "cell_type": "code",
   "execution_count": 15,
   "metadata": {},
   "outputs": [
    {
     "data": {
      "text/plain": [
       "<AxesSubplot:xlabel='primary_fuel', ylabel='count'>"
      ]
     },
     "execution_count": 15,
     "metadata": {},
     "output_type": "execute_result"
    },
    {
     "data": {
      "image/png": "[encoded data removed]",
      "text/plain": [
       "<Figure size 432x288 with 1 Axes>"
      ]
     },
     "metadata": {
      "needs_background": "light"
     },
     "output_type": "display_data"
    }
   ],
   "source": [
    "# plotting the count of the categories present in the variable 'primary_fuel'.\n",
    "sns.countplot(x='primary_fuel',data=df)"
   ]
  },
  {
   "cell_type": "markdown",
   "metadata": {},
   "source": [
    "1. From the above analysis of the varaible 'primary_fuel' it is clear that there is 8 types of fuel being used out of which 'Coal and Hydro' are the major fuel surces followed by 'solar and wind'. \n",
    "2. There are few plants having 'Gas, Biomass and Oil' as fuel.\n",
    "3. There are only nine plants having the fuel as Neuclear which is lowest among all the fuels."
   ]
  },
  {
   "cell_type": "code",
   "execution_count": 13,
   "metadata": {},
   "outputs": [
    {
     "data": {
      "text/plain": [
       "array([nan, 'Oil', 'Cogeneration', 'Gas'], dtype=object)"
      ]
     },
     "execution_count": 13,
     "metadata": {},
     "output_type": "execute_result"
    }
   ],
   "source": [
    "# Finding out the unique values present in the variable 'other_fuel1'.\n",
    "df.other_fuel1.unique()"
   ]
  },
  {
   "cell_type": "code",
   "execution_count": 14,
   "metadata": {},
   "outputs": [
    {
     "data": {
      "text/plain": [
       "Oil             196\n",
       "Gas               2\n",
       "Cogeneration      1\n",
       "Name: other_fuel1, dtype: int64"
      ]
     },
     "execution_count": 14,
     "metadata": {},
     "output_type": "execute_result"
    }
   ],
   "source": [
    "# Finding out the value count of the categories present in the variable'other_fuel1'.\n",
    "df.other_fuel1.value_counts()"
   ]
  },
  {
   "cell_type": "code",
   "execution_count": 17,
   "metadata": {},
   "outputs": [
    {
     "data": {
      "text/plain": [
       "<AxesSubplot:xlabel='other_fuel1', ylabel='count'>"
      ]
     },
     "execution_count": 17,
     "metadata": {},
     "output_type": "execute_result"
    },
    {
     "data": {
      "image/png": "[encoded data removed]",
      "text/plain": [
       "<Figure size 432x288 with 1 Axes>"
      ]
     },
     "metadata": {
      "needs_background": "light"
     },
     "output_type": "display_data"
    }
   ],
   "source": [
    "# plotting the count of the categories present in the variable 'other_fuel1'.\n",
    "sns.countplot(x='other_fuel1',data=df)"
   ]
  },
  {
   "cell_type": "markdown",
   "metadata": {},
   "source": [
    "1. Out of total number of 908 rows only 199 rows are having data rest are with null values.\n",
    "2. Out of 199 rows 196 are having 'oil' as the value.\n",
    "3. Only one values is for Cogeneration as fuel."
   ]
  },
  {
   "cell_type": "code",
   "execution_count": 18,
   "metadata": {},
   "outputs": [
    {
     "data": {
      "text/plain": [
       "capacity_mw              0\n",
       "latitude                46\n",
       "longitude               46\n",
       "primary_fuel             0\n",
       "other_fuel1            709\n",
       "commissioning_year     380\n",
       "generation_gwh_2013    524\n",
       "generation_gwh_2014    507\n",
       "generation_gwh_2015    483\n",
       "generation_gwh_2016    471\n",
       "generation_gwh_2017    465\n",
       "dtype: int64"
      ]
     },
     "execution_count": 18,
     "metadata": {},
     "output_type": "execute_result"
    }
   ],
   "source": [
    "# finding out the null values in the data set.\n",
    "df.isnull().sum()"
   ]
  },
  {
   "cell_type": "markdown",
   "metadata": {},
   "source": [
    "From the above analysis it is clear that there are lot of null values present in the data set."
   ]
  },
  {
   "cell_type": "markdown",
   "metadata": {},
   "source": [
    "#### Keeping only the rows with at least 4 non-NA values."
   ]
  },
  {
   "cell_type": "code",
   "execution_count": 17,
   "metadata": {},
   "outputs": [
    {
     "name": "stdout",
     "output_type": "stream",
     "text": [
      "shape: (874, 11)\n"
     ]
    }
   ],
   "source": [
    "df1=df.dropna(thresh=4)\n",
    "print('shape:',df1.shape)\n",
    "# This is done after analysing various threshold values as 10,8,7,6,5. Thresh value four is the best to go with."
   ]
  },
  {
   "cell_type": "markdown",
   "metadata": {},
   "source": [
    "Total (908-874=34)rows were removed."
   ]
  },
  {
   "cell_type": "markdown",
   "metadata": {},
   "source": [
    "#### Filling the nan values in different columns."
   ]
  },
  {
   "cell_type": "code",
   "execution_count": 18,
   "metadata": {},
   "outputs": [
    {
     "data": {
      "text/plain": [
       "'Oil'"
      ]
     },
     "execution_count": 18,
     "metadata": {},
     "output_type": "execute_result"
    }
   ],
   "source": [
    "# Filling the Nan values of the variable 'other_fuel1' with the highest frequency value. \n",
    "# For that purpose using mode value.\n",
    "m=df1['other_fuel1'].mode()[0]\n",
    "m"
   ]
  },
  {
   "cell_type": "code",
   "execution_count": 19,
   "metadata": {},
   "outputs": [],
   "source": [
    "df1[\"other_fuel1\"].fillna(m,inplace=True)"
   ]
  },
  {
   "cell_type": "code",
   "execution_count": 20,
   "metadata": {},
   "outputs": [
    {
     "name": "stdout",
     "output_type": "stream",
     "text": [
      "mode1: 2013.0\n"
     ]
    }
   ],
   "source": [
    "# Filling the Nan values of the variable 'commiccioning_year' with the highest frequency value(mode).\n",
    "m1=df1[\"commissioning_year\"].mode()[0]\n",
    "print('mode1:',m1)\n",
    "df1[\"commissioning_year\"].fillna(m1,inplace=True)"
   ]
  },
  {
   "cell_type": "code",
   "execution_count": 21,
   "metadata": {},
   "outputs": [
    {
     "name": "stdout",
     "output_type": "stream",
     "text": [
      "mode2: 19.0004\n"
     ]
    }
   ],
   "source": [
    "# Filling 'latitude'variable with mode value( highest frequency)\n",
    "m2=df1[\"latitude\"].mode()[0]\n",
    "print('mode2:',m2)\n",
    "df1[\"latitude\"].fillna(m1,inplace=True)"
   ]
  },
  {
   "cell_type": "code",
   "execution_count": 22,
   "metadata": {},
   "outputs": [
    {
     "name": "stdout",
     "output_type": "stream",
     "text": [
      "mode3: 71.6917\n"
     ]
    }
   ],
   "source": [
    "# Filling 'longitude' variable with mode value(highest frequency)\n",
    "m3=df1[\"longitude\"].mode()[0]\n",
    "print('mode3:',m3)\n",
    "df1[\"longitude\"].fillna(m3,inplace=True)"
   ]
  },
  {
   "cell_type": "code",
   "execution_count": 23,
   "metadata": {},
   "outputs": [
    {
     "data": {
      "text/plain": [
       "797.0634749999999"
      ]
     },
     "execution_count": 23,
     "metadata": {},
     "output_type": "execute_result"
    }
   ],
   "source": [
    "# Filling 'generation_gwh_2013' variable with median values as this is the middle value of the data.\n",
    "med=df1['generation_gwh_2013'].median()\n",
    "med"
   ]
  },
  {
   "cell_type": "code",
   "execution_count": 24,
   "metadata": {},
   "outputs": [],
   "source": [
    "df1['generation_gwh_2013'].fillna(med,inplace=True)"
   ]
  },
  {
   "cell_type": "code",
   "execution_count": 25,
   "metadata": {},
   "outputs": [
    {
     "name": "stdout",
     "output_type": "stream",
     "text": [
      "med1: 805.76\n"
     ]
    }
   ],
   "source": [
    "# Filling again with median values.\n",
    "med1=df1['generation_gwh_2014'].median()\n",
    "print('med1:',med1)\n",
    "df1['generation_gwh_2014'].fillna(med1,inplace=True)"
   ]
  },
  {
   "cell_type": "code",
   "execution_count": 26,
   "metadata": {},
   "outputs": [
    {
     "name": "stdout",
     "output_type": "stream",
     "text": [
      "med2: 701.02725\n"
     ]
    }
   ],
   "source": [
    "# Filling again with median values.\n",
    "med2=df1['generation_gwh_2015'].median()\n",
    "print('med2:',med2)\n",
    "df1['generation_gwh_2015'].fillna(med2,inplace=True)"
   ]
  },
  {
   "cell_type": "code",
   "execution_count": 27,
   "metadata": {},
   "outputs": [
    {
     "name": "stdout",
     "output_type": "stream",
     "text": [
      "med3: 716.7283500000001\n"
     ]
    }
   ],
   "source": [
    "# Filling again with median values.\n",
    "med3=df1['generation_gwh_2016'].median()\n",
    "print('med3:',med3)\n",
    "df1['generation_gwh_2016'].fillna(med3,inplace=True)"
   ]
  },
  {
   "cell_type": "code",
   "execution_count": 28,
   "metadata": {},
   "outputs": [
    {
     "name": "stdout",
     "output_type": "stream",
     "text": [
      "med4: 807.6016999999999\n"
     ]
    }
   ],
   "source": [
    "# Filling again with median values.\n",
    "med4=df1['generation_gwh_2017'].median()\n",
    "print('med4:',med4)\n",
    "df1['generation_gwh_2017'].fillna(med4,inplace=True)"
   ]
  },
  {
   "cell_type": "code",
   "execution_count": 29,
   "metadata": {},
   "outputs": [
    {
     "data": {
      "text/plain": [
       "capacity_mw            0\n",
       "latitude               0\n",
       "longitude              0\n",
       "primary_fuel           0\n",
       "other_fuel1            0\n",
       "commissioning_year     0\n",
       "generation_gwh_2013    0\n",
       "generation_gwh_2014    0\n",
       "generation_gwh_2015    0\n",
       "generation_gwh_2016    0\n",
       "generation_gwh_2017    0\n",
       "dtype: int64"
      ]
     },
     "execution_count": 29,
     "metadata": {},
     "output_type": "execute_result"
    }
   ],
   "source": [
    "# Checking the null values once again.\n",
    "df1.isnull().sum()"
   ]
  },
  {
   "cell_type": "markdown",
   "metadata": {},
   "source": [
    "No null values are present now."
   ]
  },
  {
   "cell_type": "markdown",
   "metadata": {},
   "source": [
    "#### Converting 'primary_fuel and other_fuel1' string values to numeric values."
   ]
  },
  {
   "cell_type": "code",
   "execution_count": 31,
   "metadata": {},
   "outputs": [],
   "source": [
    "from sklearn.preprocessing import LabelEncoder"
   ]
  },
  {
   "cell_type": "code",
   "execution_count": 32,
   "metadata": {},
   "outputs": [],
   "source": [
    "# Changing the string values in to numerical one.\n",
    "le=LabelEncoder()\n",
    "\n",
    "list1=['primary_fuel','other_fuel1']\n",
    "for val in list1:\n",
    "    df1[val]=le.fit_transform(df1[val].astype(str))"
   ]
  },
  {
   "cell_type": "code",
   "execution_count": 34,
   "metadata": {},
   "outputs": [
    {
     "name": "stdout",
     "output_type": "stream",
     "text": [
      "<class 'pandas.core.frame.DataFrame'>\n",
      "Int64Index: 874 entries, 0 to 907\n",
      "Data columns (total 11 columns):\n",
      " #   Column               Non-Null Count  Dtype  \n",
      "---  ------               --------------  -----  \n",
      " 0   capacity_mw          874 non-null    float64\n",
      " 1   latitude             874 non-null    float64\n",
      " 2   longitude            874 non-null    float64\n",
      " 3   primary_fuel         874 non-null    int32  \n",
      " 4   other_fuel1          874 non-null    int32  \n",
      " 5   commissioning_year   874 non-null    float64\n",
      " 6   generation_gwh_2013  874 non-null    float64\n",
      " 7   generation_gwh_2014  874 non-null    float64\n",
      " 8   generation_gwh_2015  874 non-null    float64\n",
      " 9   generation_gwh_2016  874 non-null    float64\n",
      " 10  generation_gwh_2017  874 non-null    float64\n",
      "dtypes: float64(9), int32(2)\n",
      "memory usage: 75.1 KB\n"
     ]
    }
   ],
   "source": [
    "# Checking the converted data type \n",
    "df1.info()"
   ]
  },
  {
   "cell_type": "markdown",
   "metadata": {},
   "source": [
    "From the above analysis it is clear that all teh values are now in numeric data types (either float or int)."
   ]
  },
  {
   "cell_type": "code",
   "execution_count": 35,
   "metadata": {},
   "outputs": [
    {
     "data": {
      "text/plain": [
       "<AxesSubplot:>"
      ]
     },
     "execution_count": 35,
     "metadata": {},
     "output_type": "execute_result"
    },
    {
     "data": {
      "image/png": "[encoded data removed]",
      "text/plain": [
       "<Figure size 864x576 with 2 Axes>"
      ]
     },
     "metadata": {
      "needs_background": "light"
     },
     "output_type": "display_data"
    }
   ],
   "source": [
    "# finding out the correlation between the different variables.\n",
    "plt.figure(figsize=(12,8))\n",
    "sns.heatmap(df1.corr(),cmap='YlGnBu',annot=True,linewidths=.5)"
   ]
  },
  {
   "cell_type": "markdown",
   "metadata": {},
   "source": [
    "from the above heatmap it is clear that the varables are having high correlation (shown in indigo color). This is because, according to the formula for growth calculation the previous year data is used along with the current year data. hence showing high correlation."
   ]
  },
  {
   "cell_type": "markdown",
   "metadata": {},
   "source": [
    "### Seperating the data set in to target(capacity_mw) and predictor (feature) variable."
   ]
  },
  {
   "cell_type": "code",
   "execution_count": 36,
   "metadata": {},
   "outputs": [],
   "source": [
    "x=df1.iloc[:,1:]\n",
    "y=df1.iloc[:,0:1]"
   ]
  },
  {
   "cell_type": "code",
   "execution_count": 37,
   "metadata": {},
   "outputs": [
    {
     "data": {
      "text/plain": [
       "(874, 10)"
      ]
     },
     "execution_count": 37,
     "metadata": {},
     "output_type": "execute_result"
    }
   ],
   "source": [
    "x.shape"
   ]
  },
  {
   "cell_type": "code",
   "execution_count": 38,
   "metadata": {},
   "outputs": [
    {
     "data": {
      "text/html": [
       "<div>\n",
       "<style scoped>\n",
       "    .dataframe tbody tr th:only-of-type {\n",
       "        vertical-align: middle;\n",
       "    }\n",
       "\n",
       "    .dataframe tbody tr th {\n",
       "        vertical-align: top;\n",
       "    }\n",
       "\n",
       "    .dataframe thead th {\n",
       "        text-align: right;\n",
       "    }\n",
       "</style>\n",
       "<table border=\"1\" class=\"dataframe\">\n",
       "  <thead>\n",
       "    <tr style=\"text-align: right;\">\n",
       "      <th></th>\n",
       "      <th>latitude</th>\n",
       "      <th>longitude</th>\n",
       "      <th>primary_fuel</th>\n",
       "      <th>other_fuel1</th>\n",
       "      <th>commissioning_year</th>\n",
       "      <th>generation_gwh_2013</th>\n",
       "      <th>generation_gwh_2014</th>\n",
       "      <th>generation_gwh_2015</th>\n",
       "      <th>generation_gwh_2016</th>\n",
       "      <th>generation_gwh_2017</th>\n",
       "    </tr>\n",
       "  </thead>\n",
       "  <tbody>\n",
       "    <tr>\n",
       "      <th>0</th>\n",
       "      <td>28.1839</td>\n",
       "      <td>73.2407</td>\n",
       "      <td>6</td>\n",
       "      <td>2</td>\n",
       "      <td>2011.0</td>\n",
       "      <td>797.063475</td>\n",
       "      <td>805.76</td>\n",
       "      <td>701.02725</td>\n",
       "      <td>716.72835</td>\n",
       "      <td>807.6017</td>\n",
       "    </tr>\n",
       "    <tr>\n",
       "      <th>1</th>\n",
       "      <td>24.7663</td>\n",
       "      <td>74.6090</td>\n",
       "      <td>1</td>\n",
       "      <td>2</td>\n",
       "      <td>2013.0</td>\n",
       "      <td>797.063475</td>\n",
       "      <td>805.76</td>\n",
       "      <td>701.02725</td>\n",
       "      <td>716.72835</td>\n",
       "      <td>807.6017</td>\n",
       "    </tr>\n",
       "  </tbody>\n",
       "</table>\n",
       "</div>"
      ],
      "text/plain": [
       "   latitude  longitude  primary_fuel  other_fuel1  commissioning_year  \\\n",
       "0   28.1839    73.2407             6            2              2011.0   \n",
       "1   24.7663    74.6090             1            2              2013.0   \n",
       "\n",
       "   generation_gwh_2013  generation_gwh_2014  generation_gwh_2015  \\\n",
       "0           797.063475               805.76            701.02725   \n",
       "1           797.063475               805.76            701.02725   \n",
       "\n",
       "   generation_gwh_2016  generation_gwh_2017  \n",
       "0            716.72835             807.6017  \n",
       "1            716.72835             807.6017  "
      ]
     },
     "execution_count": 38,
     "metadata": {},
     "output_type": "execute_result"
    }
   ],
   "source": [
    "x.head(2)"
   ]
  },
  {
   "cell_type": "code",
   "execution_count": 39,
   "metadata": {},
   "outputs": [
    {
     "data": {
      "text/plain": [
       "(874, 1)"
      ]
     },
     "execution_count": 39,
     "metadata": {},
     "output_type": "execute_result"
    }
   ],
   "source": [
    "y.shape"
   ]
  },
  {
   "cell_type": "code",
   "execution_count": 40,
   "metadata": {},
   "outputs": [
    {
     "data": {
      "text/html": [
       "<div>\n",
       "<style scoped>\n",
       "    .dataframe tbody tr th:only-of-type {\n",
       "        vertical-align: middle;\n",
       "    }\n",
       "\n",
       "    .dataframe tbody tr th {\n",
       "        vertical-align: top;\n",
       "    }\n",
       "\n",
       "    .dataframe thead th {\n",
       "        text-align: right;\n",
       "    }\n",
       "</style>\n",
       "<table border=\"1\" class=\"dataframe\">\n",
       "  <thead>\n",
       "    <tr style=\"text-align: right;\">\n",
       "      <th></th>\n",
       "      <th>capacity_mw</th>\n",
       "    </tr>\n",
       "  </thead>\n",
       "  <tbody>\n",
       "    <tr>\n",
       "      <th>0</th>\n",
       "      <td>2.5</td>\n",
       "    </tr>\n",
       "    <tr>\n",
       "      <th>1</th>\n",
       "      <td>98.0</td>\n",
       "    </tr>\n",
       "  </tbody>\n",
       "</table>\n",
       "</div>"
      ],
      "text/plain": [
       "   capacity_mw\n",
       "0          2.5\n",
       "1         98.0"
      ]
     },
     "execution_count": 40,
     "metadata": {},
     "output_type": "execute_result"
    }
   ],
   "source": [
    "y.head(2)"
   ]
  },
  {
   "cell_type": "markdown",
   "metadata": {},
   "source": [
    "### Standardising the data:  Normalising the data"
   ]
  },
  {
   "cell_type": "code",
   "execution_count": 41,
   "metadata": {},
   "outputs": [],
   "source": [
    "from sklearn.preprocessing import StandardScaler\n",
    "scale=StandardScaler()\n",
    "x=scale.fit_transform(x)"
   ]
  },
  {
   "cell_type": "markdown",
   "metadata": {},
   "source": [
    "### Splitting the data into training and testing parts"
   ]
  },
  {
   "cell_type": "code",
   "execution_count": 42,
   "metadata": {},
   "outputs": [],
   "source": [
    "from sklearn.model_selection import train_test_split"
   ]
  },
  {
   "cell_type": "code",
   "execution_count": 43,
   "metadata": {},
   "outputs": [],
   "source": [
    "xtrain,xtest,ytrain,ytest=train_test_split(x,y,test_size=.30,random_state=45)"
   ]
  },
  {
   "cell_type": "code",
   "execution_count": 48,
   "metadata": {},
   "outputs": [
    {
     "name": "stdout",
     "output_type": "stream",
     "text": [
      "xtrain shape: (611, 10)\n",
      "ytrain shape: (611, 1)\n",
      "xtest shape: (263, 10)\n",
      "ytest shape: (263, 1)\n"
     ]
    }
   ],
   "source": [
    "print('xtrain shape:',xtrain.shape)\n",
    "print('ytrain shape:',ytrain.shape)\n",
    "print('xtest shape:',xtest.shape)\n",
    "print('ytest shape:',ytest.shape)"
   ]
  },
  {
   "cell_type": "markdown",
   "metadata": {},
   "source": [
    "## PART A"
   ]
  },
  {
   "cell_type": "markdown",
   "metadata": {},
   "source": [
    "### Fitting Model for predicting Target variable(capacity_mw)"
   ]
  },
  {
   "cell_type": "code",
   "execution_count": 59,
   "metadata": {},
   "outputs": [],
   "source": [
    "# importing necessary libraries.\n",
    "from sklearn.linear_model import LinearRegression\n",
    "from sklearn.linear_model import Ridge,Lasso,ElasticNet\n",
    "from sklearn.tree import DecisionTreeRegressor\n",
    "from sklearn.neighbors import KNeighborsRegressor\n",
    "from sklearn.linear_model import SGDRegressor\n",
    "from sklearn.ensemble import RandomForestRegressor\n",
    "from sklearn.ensemble import AdaBoostRegressor\n",
    "\n",
    "from sklearn.metrics import r2_score\n",
    "from sklearn.metrics import mean_absolute_error\n",
    "from sklearn.metrics import mean_squared_error\n",
    "\n",
    "from sklearn.model_selection import GridSearchCV\n",
    "from sklearn.model_selection import KFold\n",
    "from sklearn.model_selection import cross_val_score"
   ]
  },
  {
   "cell_type": "code",
   "execution_count": 50,
   "metadata": {},
   "outputs": [
    {
     "name": "stdout",
     "output_type": "stream",
     "text": [
      "lr coef: [[   2.49502638    9.31769571  -86.16354181   -4.49795751   -5.85799047\n",
      "   -12.32317404   34.81259557 -230.03429416  319.79776306  366.59139542]]\n",
      "lr intercept: [325.84913687]\n",
      "lr score: 0.7349631719694472\n"
     ]
    }
   ],
   "source": [
    "lr=LinearRegression()\n",
    "lr.fit(xtrain,ytrain)\n",
    "print('lr coef:',lr.coef_)\n",
    "print('lr intercept:',lr.intercept_)\n",
    "pred=lr.predict(xtest)\n",
    "print('lr score:',lr.score(xtest,ytest))"
   ]
  },
  {
   "cell_type": "markdown",
   "metadata": {},
   "source": [
    "#### Using Regularisation technique"
   ]
  },
  {
   "cell_type": "code",
   "execution_count": 51,
   "metadata": {},
   "outputs": [
    {
     "name": "stdout",
     "output_type": "stream",
     "text": [
      "Ridge score: 0.8120645241060036\n",
      "r2_score: 0.7349634681040536\n"
     ]
    }
   ],
   "source": [
    "rdg=Ridge(alpha=0.0001, random_state=45)\n",
    "rdg.fit(xtrain,ytrain)\n",
    "print('Ridge score:',rdg.score(xtrain,ytrain))\n",
    "predict=rdg.predict(xtest)\n",
    "print('r2_score:',r2_score(ytest,predict))"
   ]
  },
  {
   "cell_type": "code",
   "execution_count": 52,
   "metadata": {},
   "outputs": [
    {
     "name": "stdout",
     "output_type": "stream",
     "text": [
      "Lasso score: 0.8120645240965958\n",
      "r2 score: 0.7349641031448283\n"
     ]
    }
   ],
   "source": [
    "lso=Lasso(alpha=.0001,random_state=45)\n",
    "lso.fit(xtrain,ytrain)\n",
    "print('Lasso score:',lso.score(xtrain,ytrain))\n",
    "predict1=lso.predict(xtest)\n",
    "print('r2 score:',r2_score(ytest,predict1))"
   ]
  },
  {
   "cell_type": "code",
   "execution_count": 53,
   "metadata": {},
   "outputs": [
    {
     "name": "stdout",
     "output_type": "stream",
     "text": [
      "ElasticNet score: 0.8120644620501208\n",
      "r2 score: 0.7350536233261968\n"
     ]
    }
   ],
   "source": [
    "en=ElasticNet(alpha=0.0001, random_state=45)\n",
    "en.fit(xtrain,ytrain)\n",
    "print('ElasticNet score:',en.score(xtrain,ytrain))\n",
    "predict2=en.predict(xtest)\n",
    "print('r2 score:',r2_score(ytest,predict2))"
   ]
  },
  {
   "cell_type": "markdown",
   "metadata": {},
   "source": [
    "#### Applying other pridiction models."
   ]
  },
  {
   "cell_type": "code",
   "execution_count": 54,
   "metadata": {},
   "outputs": [
    {
     "name": "stdout",
     "output_type": "stream",
     "text": [
      "dtr score: 0.9999970719834425\n",
      "dtr r2_score: 0.7588243480075836\n",
      "Mean absolute error is= 138.08429657794676\n",
      "Mean squared error of dtr =  77354.38158407605\n",
      "Root Mean squared error of dtr =  278.1265567760045\n"
     ]
    }
   ],
   "source": [
    "dtr=DecisionTreeRegressor(criterion='mse')\n",
    "dtr.fit(xtrain,ytrain)\n",
    "print('dtr score:',dtr.score(xtrain,ytrain))\n",
    "\n",
    "dtrpredict=dtr.predict(xtest)\n",
    "print('dtr r2_score:', r2_score(ytest,dtrpredict))\n",
    "\n",
    "print(\"Mean absolute error is=\",mean_absolute_error(ytest,dtrpredict))\n",
    "print(\"Mean squared error of dtr = \", mean_squared_error(ytest,dtrpredict))\n",
    "print(\"Root Mean squared error of dtr = \",np.sqrt(mean_squared_error(ytest,dtrpredict)))"
   ]
  },
  {
   "cell_type": "code",
   "execution_count": 55,
   "metadata": {},
   "outputs": [
    {
     "name": "stdout",
     "output_type": "stream",
     "text": [
      "knr score: 0.8958245737383718\n",
      "knr r2_score: 0.7761237632184864\n",
      "Mean absolute error is= 128.3790859315589\n",
      "Mean squareed error of knr = 71805.78845558054\n",
      "Root Mean squared error of knr= 267.966021083981\n"
     ]
    }
   ],
   "source": [
    "# k=5\n",
    "knr=KNeighborsRegressor(n_neighbors=5)\n",
    "knr.fit(xtrain,ytrain)\n",
    "print('knr score:',knr.score(xtrain,ytrain))\n",
    "\n",
    "knrpredict=knr.predict(xtest)\n",
    "print('knr r2_score:',r2_score(ytest,knrpredict))\n",
    "\n",
    "print(\"Mean absolute error is=\",mean_absolute_error(ytest,knrpredict))\n",
    "print(\"Mean squareed error of knr =\",mean_squared_error(ytest,knrpredict))\n",
    "print(\"Root Mean squared error of knr=\",np.sqrt(mean_squared_error(ytest,knrpredict)))"
   ]
  },
  {
   "cell_type": "code",
   "execution_count": 62,
   "metadata": {},
   "outputs": [
    {
     "name": "stdout",
     "output_type": "stream",
     "text": [
      "knr1 score: 0.8650361734337517\n",
      "knr1 r2_score: 0.7593487352897454\n",
      "Mean absolute error is = 135.37785855513306\n",
      "Mean squareed error of knr1 = 77186.19025303963\n",
      "Root Mean squared error of knr1 = 277.82402749409493\n"
     ]
    }
   ],
   "source": [
    "# k=10\n",
    "knr1=KNeighborsRegressor(n_neighbors=10)\n",
    "knr1.fit(xtrain,ytrain)\n",
    "print('knr1 score:',knr1.score(xtrain,ytrain))\n",
    "\n",
    "knr1predict=knr1.predict(xtest)\n",
    "print('knr1 r2_score:',r2_score(ytest,knr1predict))\n",
    "\n",
    "print(\"Mean absolute error is =\",mean_absolute_error(ytest,knr1predict))\n",
    "print(\"Mean squareed error of knr1 =\",mean_squared_error(ytest,knr1predict))\n",
    "print(\"Root Mean squared error of knr1 =\",np.sqrt(mean_squared_error(ytest,knr1predict)))"
   ]
  },
  {
   "cell_type": "code",
   "execution_count": 63,
   "metadata": {},
   "outputs": [
    {
     "name": "stdout",
     "output_type": "stream",
     "text": [
      "knr2 score: 0.9218909041952058\n",
      "knr2 r2_score: 0.7914349193702387\n",
      "Mean absolute error is = 127.67651204055767\n",
      "Mean squareed error of knr2 = 66894.90708894382\n",
      "Root Mean squared error of knr2 = 258.6404977743119\n"
     ]
    }
   ],
   "source": [
    "# k=3\n",
    "knr2=KNeighborsRegressor(n_neighbors=3)\n",
    "knr2.fit(xtrain,ytrain)\n",
    "print('knr2 score:',knr2.score(xtrain,ytrain))\n",
    "\n",
    "knr2predict=knr2.predict(xtest)\n",
    "print('knr2 r2_score:',r2_score(ytest,knr2predict))\n",
    "\n",
    "print(\"Mean absolute error is =\",mean_absolute_error(ytest,knr2predict))\n",
    "print(\"Mean squareed error of knr2 =\",mean_squared_error(ytest,knr2predict))\n",
    "print(\"Root Mean squared error of knr2 =\",np.sqrt(mean_squared_error(ytest,knr2predict)))"
   ]
  },
  {
   "cell_type": "code",
   "execution_count": 61,
   "metadata": {},
   "outputs": [
    {
     "name": "stdout",
     "output_type": "stream",
     "text": [
      "sgd score: 0.8100279177381173\n",
      "sgd r2_score: 0.7364118053248389\n",
      "Mean absolute error is= 181.124355813702\n",
      "Mean squared error of sgd= 84542.95292047672\n",
      "Root Mean squared error of sgd= 290.76270895779726\n"
     ]
    }
   ],
   "source": [
    "sgd=SGDRegressor()\n",
    "sgd.fit(xtrain,ytrain)\n",
    "print('sgd score:',sgd.score(xtrain,ytrain))\n",
    "\n",
    "sgd1predict=sgd.predict(xtest)\n",
    "print('sgd r2_score:', r2_score(ytest,sgd1predict))\n",
    "\n",
    "print(\"Mean absolute error is=\",mean_absolute_error(ytest,sgd1predict))\n",
    "print(\"Mean squared error of sgd=\",mean_squared_error(ytest,sgd1predict))\n",
    "print(\"Root Mean squared error of sgd=\",np.sqrt(mean_squared_error(ytest,sgd1predict)))"
   ]
  },
  {
   "cell_type": "markdown",
   "metadata": {},
   "source": [
    "From the above fitted models KNeighbors Regressor having k=3 is giving the best scores as r2 score of 79.14% adn RMSE as 258.64 (which is slightly on thehigher side). Now moving for Ensemble Techniques for further improving the scores and in turn improving the model."
   ]
  },
  {
   "cell_type": "markdown",
   "metadata": {},
   "source": [
    "### Ensemble Techniques"
   ]
  },
  {
   "cell_type": "code",
   "execution_count": 64,
   "metadata": {},
   "outputs": [
    {
     "name": "stdout",
     "output_type": "stream",
     "text": [
      "rfr score: 0.9808230887154786\n",
      "rfr r2_score: 0.8537432080225302\n",
      "Mean absolute error is= 112.33798759188846\n",
      "Mean squared error of rfr= 46910.22332653954\n",
      "Root Mean squared error of rfr= 216.58768045883758\n"
     ]
    }
   ],
   "source": [
    "rfr=RandomForestRegressor()\n",
    "rfr.fit(xtrain,ytrain)\n",
    "print('rfr score:',rfr.score(xtrain,ytrain))\n",
    "\n",
    "rfr1predict=rfr.predict(xtest)\n",
    "print('rfr r2_score:', r2_score(ytest,rfr1predict))\n",
    "\n",
    "print(\"Mean absolute error is=\",mean_absolute_error(ytest,rfr1predict))\n",
    "print(\"Mean squared error of rfr=\",mean_squared_error(ytest,rfr1predict))\n",
    "print(\"Root Mean squared error of rfr=\",np.sqrt(mean_squared_error(ytest,rfr1predict)))"
   ]
  },
  {
   "cell_type": "code",
   "execution_count": 65,
   "metadata": {},
   "outputs": [
    {
     "name": "stdout",
     "output_type": "stream",
     "text": [
      "abr score: 0.7290039937510979\n",
      "abr r2_score: 0.6423015668594168\n",
      "Mean absolute error is= 303.1278824335881\n",
      "Mean squared error of abr= 114727.75489813062\n",
      "Root Mean squared error of abr= 338.71485780539746\n"
     ]
    }
   ],
   "source": [
    "abr=AdaBoostRegressor()\n",
    "abr.fit(xtrain,ytrain)\n",
    "print('abr score:',abr.score(xtrain,ytrain))\n",
    "\n",
    "abr1predict=abr.predict(xtest)\n",
    "print('abr r2_score:', r2_score(ytest,abr1predict))\n",
    "\n",
    "print(\"Mean absolute error is=\",mean_absolute_error(ytest,abr1predict))\n",
    "print(\"Mean squared error of abr=\",mean_squared_error(ytest,abr1predict))\n",
    "print(\"Root Mean squared error of abr=\",np.sqrt(mean_squared_error(ytest,abr1predict)))"
   ]
  },
  {
   "cell_type": "markdown",
   "metadata": {},
   "source": [
    "From teh above two ensemble techniques it is found that Random Forest Regressor is giving the best scores. It is giving r2 score as 85.37% and RMSE value is also reduced a little and comming as 216.58. Now moving ahead with Cross validation of Random Forest Regressor and KNeighbors Regressor with k=3."
   ]
  },
  {
   "cell_type": "markdown",
   "metadata": {},
   "source": [
    "### Cross Validation"
   ]
  },
  {
   "cell_type": "code",
   "execution_count": 66,
   "metadata": {},
   "outputs": [
    {
     "name": "stdout",
     "output_type": "stream",
     "text": [
      "[0.86091931 0.86792599 0.88179538 0.83931598 0.76660204 0.86582803\n",
      " 0.68406453 0.88205462 0.87838435 0.85469687]\n",
      "0.8381587105417065\n",
      "0.060629254016161045\n"
     ]
    }
   ],
   "source": [
    "score=cross_val_score(knr2,xtrain,ytrain,cv=10)\n",
    "print(score)\n",
    "print(score.mean())\n",
    "print(score.std())"
   ]
  },
  {
   "cell_type": "code",
   "execution_count": 67,
   "metadata": {},
   "outputs": [
    {
     "name": "stdout",
     "output_type": "stream",
     "text": [
      "[0.88430916 0.87647963 0.80637991 0.78739279 0.88041442]\n",
      "0.8469951817118435\n",
      "0.041425975772674206\n"
     ]
    }
   ],
   "source": [
    "score=cross_val_score(rfr,xtrain,ytrain,cv=5)\n",
    "print(score)\n",
    "print(score.mean())\n",
    "print(score.std())"
   ]
  },
  {
   "cell_type": "markdown",
   "metadata": {},
   "source": [
    "From the above validation scores it is clear that Random Forest Regressor is giving the best scores as Mean score=84.69% and standard deviation as 0.04. Now miving ahead with Hyper paraetric Tuning for further improving the scores as inturn the model performance."
   ]
  },
  {
   "cell_type": "markdown",
   "metadata": {},
   "source": [
    "### Hyper Parametric Tuning"
   ]
  },
  {
   "cell_type": "code",
   "execution_count": 68,
   "metadata": {},
   "outputs": [],
   "source": [
    "param_grid = {  'bootstrap': [True], \n",
    "              'max_depth': [5, 10, None], \n",
    "              'max_features': ['auto', 'log2','sqrt',None], \n",
    "              'n_estimators': [10, 20, 30, 40, 50, 60, 70, 80, 90, 100]}"
   ]
  },
  {
   "cell_type": "code",
   "execution_count": 69,
   "metadata": {},
   "outputs": [],
   "source": [
    "g_search = GridSearchCV(estimator = rfr, \n",
    "                        param_grid = param_grid, \n",
    "                        cv = 3, \n",
    "                        n_jobs = 1,\n",
    "                        verbose = 0, \n",
    "                        return_train_score=True)"
   ]
  },
  {
   "cell_type": "code",
   "execution_count": 70,
   "metadata": {},
   "outputs": [],
   "source": [
    "g_search.fit(xtrain, ytrain);"
   ]
  },
  {
   "cell_type": "code",
   "execution_count": 71,
   "metadata": {},
   "outputs": [
    {
     "name": "stdout",
     "output_type": "stream",
     "text": [
      "{'bootstrap': True, 'max_depth': 10, 'max_features': 'log2', 'n_estimators': 100}\n"
     ]
    }
   ],
   "source": [
    "print(g_search.best_params_)"
   ]
  },
  {
   "cell_type": "code",
   "execution_count": 74,
   "metadata": {},
   "outputs": [
    {
     "name": "stdout",
     "output_type": "stream",
     "text": [
      "modelrfr score: 0.9771099661980645\n",
      "modelrfr r2_score: 0.852352356431228\n",
      "Mean absolute error is= 113.62678173650238\n",
      "Mean squared error of rfr= 47356.3233529377\n",
      "Root Mean squared error of rfr= 217.61508071118993\n"
     ]
    }
   ],
   "source": [
    "modelrfr=RandomForestRegressor(bootstrap= True, max_depth= 10, max_features= 'log2', n_estimators=100 )\n",
    "modelrfr.fit(xtrain,ytrain)\n",
    "print('modelrfr score:',modelrfr.score(xtrain,ytrain))\n",
    "\n",
    "modelrfr1predict=modelrfr.predict(xtest)\n",
    "print('modelrfr r2_score:', r2_score(ytest,modelrfr1predict))\n",
    "\n",
    "print(\"Mean absolute error is=\",mean_absolute_error(ytest,modelrfr1predict))\n",
    "print(\"Mean squared error of rfr=\",mean_squared_error(ytest,modelrfr1predict))\n",
    "print(\"Root Mean squared error of rfr=\",np.sqrt(mean_squared_error(ytest,modelrfr1predict)))"
   ]
  },
  {
   "cell_type": "markdown",
   "metadata": {},
   "source": [
    "From the above Hyper parametr Tuning scores of Random Forest Regressor (r2 score=85.23% and RMSE value=217.61) it is seen that there is no improvement in the scores of the model. Now moving ahead with saving the model for further use. "
   ]
  },
  {
   "cell_type": "markdown",
   "metadata": {},
   "source": [
    "### Saving the Model"
   ]
  },
  {
   "cell_type": "code",
   "execution_count": 75,
   "metadata": {},
   "outputs": [
    {
     "data": {
      "text/plain": [
       "array([  32.762     ,   36.639     ,  580.5372    ,   14.5845    ,\n",
       "         58.473     ,  955.139     ,   43.095     , 1192.9       ,\n",
       "        127.5445    , 1140.075     , 1424.845     ,   26.58      ,\n",
       "        268.4488    ,   50.503     ,  114.94      ,  486.6883    ,\n",
       "         30.732     ,  852.459     ,   30.253     ,  265.69      ,\n",
       "         41.9445    ,    4.1355    ,   54.766     ,  126.755     ,\n",
       "        101.9948    ,  722.034     ,   80.7904    ,  325.61731   ,\n",
       "       1613.2416    ,    8.23      , 4004.6       ,   12.449     ,\n",
       "         13.5356    ,    7.306     ,   13.0845    ,  344.811     ,\n",
       "         16.2268    ,   38.999     ,  257.77022   ,    5.        ,\n",
       "         16.129     ,  360.12751   ,   42.06      ,   20.061     ,\n",
       "         39.265     ,  172.978     ,   58.978     ,  265.7865    ,\n",
       "         50.413     ,   43.356     ,   95.867     ,   21.825     ,\n",
       "         42.843     , 1159.1148    ,   15.363     ,  139.661     ,\n",
       "        113.62836667, 3760.        ,    7.3       ,   34.918     ,\n",
       "         14.7415    ,  469.38      ,   13.8856    ,   81.65      ,\n",
       "         42.81      ,  812.198     ,  149.97077   ,   99.308     ,\n",
       "         95.78063   ,    5.        , 1222.1408    ,  160.4039    ,\n",
       "        333.28      ,   49.581     ,  382.562     ,  128.22951   ,\n",
       "        390.965     ,   39.226     ,   98.847     , 2515.3       ,\n",
       "        692.082     ,  658.464     ,    6.486     ,   26.608     ,\n",
       "         37.58      ,  334.8273    ,   49.932     ,   13.162     ,\n",
       "        331.5639    ,  792.02      ,   43.198     ,   19.0145    ,\n",
       "         40.155     ,    8.7344    ,  892.44      ,  447.9259    ,\n",
       "         17.987     ,    9.413     ,   18.37      ,   18.2586    ,\n",
       "        329.2783    ,    4.012     ,    4.4115    ,   71.8535    ,\n",
       "        605.0602    ,   20.339     ,   24.735     ,   36.0765    ,\n",
       "         23.596     ,  298.5673    , 1133.9058    ,   24.9254    ,\n",
       "         41.48      ,    6.442     ,   32.033     ,   21.468     ,\n",
       "        153.9715    ,    8.8539    ,   27.04      , 1201.5754    ,\n",
       "         56.212     ,   17.822     ,    6.405     ,   15.442     ,\n",
       "        308.9193    ,  320.79471   ,  219.98813   ,  528.015     ,\n",
       "       1263.3432    , 1289.4472    ,  477.6245    ,  346.632     ,\n",
       "        177.3036    ,   33.505     , 1379.655     ,  492.1576    ,\n",
       "         11.92      ,  310.7753    ,  132.40373   , 1214.04      ,\n",
       "         26.7172    , 1893.38      ,   14.45      ,  513.225     ,\n",
       "        184.5325    ,   15.1395    ,  232.38121   ,   32.274     ,\n",
       "         63.42342   , 1064.1008    ,  610.85726   ,   39.861     ,\n",
       "         54.4292    ,   57.547     ,   16.824     ,  493.6138    ,\n",
       "         27.0292    ,   13.31      ,   10.933     ,   14.943     ,\n",
       "          6.265     , 1277.4106    ,   16.6704    ,  362.2362    ,\n",
       "       1211.654     ,   13.3009    , 1125.62      ,   32.38      ,\n",
       "         61.579     ,  487.058     ,  106.4895    ,   64.7765    ,\n",
       "        177.3545    ,   17.624     ,   39.823     ,   13.7193    ,\n",
       "        300.54017   ,  538.06      ,  584.397     ,   14.3419    ,\n",
       "       1097.4008    ,   11.021     ,   25.851     ,   23.125     ,\n",
       "        601.0696    ,   80.6768    ,   18.045     ,   34.809     ,\n",
       "         21.77966667,    8.858     ,    5.60875   ,   25.441     ,\n",
       "        138.209     ,   92.718     ,   20.1825    ,   18.6764    ,\n",
       "        172.756     , 1164.045     , 1316.96      ,  607.1353    ,\n",
       "        882.1782    ,    7.1025    ,  315.75147333,  362.36159667,\n",
       "         20.9871    ,  332.0639    , 1239.56      ,   14.985     ,\n",
       "         96.7336    ,   35.802     ,   13.737     ,  155.2074    ,\n",
       "        562.412     ,  509.9196    ,  286.828     ,  135.4025    ,\n",
       "        135.2155    ,   46.4185    ,    8.1765    , 1569.5       ,\n",
       "         30.4292    ,  307.96      ,   12.4745    ,   15.071     ,\n",
       "        270.86501   ,  338.02403   ,   47.071     ,   43.854     ,\n",
       "        167.4118    , 1174.335     ,   16.75      ,   14.261     ,\n",
       "        122.5955    ,   43.235     , 1181.175     ,   17.99      ,\n",
       "        221.90131   ,   72.543     ,   23.0115    ,  367.6443    ,\n",
       "         24.561     , 1231.675     ,  744.288     ,  601.2222    ,\n",
       "        368.867     , 1259.4714    ,   12.831     ,   88.6403    ,\n",
       "         17.878     ,  262.3143    ,   34.3455    ,   10.245     ,\n",
       "         11.105     ,  101.6796    ,   22.197     ,   12.81      ,\n",
       "        265.24731   , 1091.755     ,  424.64791   ,  234.86728   ,\n",
       "         33.7325    , 1380.375     ,  881.332     ])"
      ]
     },
     "execution_count": 75,
     "metadata": {},
     "output_type": "execute_result"
    }
   ],
   "source": [
    "import joblib\n",
    "\n",
    "joblib.dump(rfr,'rfr_global_power_plant_model.obj')\n",
    "\n",
    "rfrloadmodel=joblib.load('rfr_global_power_plant_model.obj')\n",
    "rfrloadmodel.predict(xtest)"
   ]
  },
  {
   "cell_type": "markdown",
   "metadata": {},
   "source": [
    "## PART B"
   ]
  },
  {
   "cell_type": "markdown",
   "metadata": {},
   "source": [
    "### Predicting the fuel category"
   ]
  },
  {
   "cell_type": "code",
   "execution_count": 76,
   "metadata": {},
   "outputs": [
    {
     "data": {
      "text/html": [
       "<div>\n",
       "<style scoped>\n",
       "    .dataframe tbody tr th:only-of-type {\n",
       "        vertical-align: middle;\n",
       "    }\n",
       "\n",
       "    .dataframe tbody tr th {\n",
       "        vertical-align: top;\n",
       "    }\n",
       "\n",
       "    .dataframe thead th {\n",
       "        text-align: right;\n",
       "    }\n",
       "</style>\n",
       "<table border=\"1\" class=\"dataframe\">\n",
       "  <thead>\n",
       "    <tr style=\"text-align: right;\">\n",
       "      <th></th>\n",
       "      <th>capacity_mw</th>\n",
       "      <th>latitude</th>\n",
       "      <th>longitude</th>\n",
       "      <th>primary_fuel</th>\n",
       "      <th>other_fuel1</th>\n",
       "      <th>commissioning_year</th>\n",
       "      <th>generation_gwh_2013</th>\n",
       "      <th>generation_gwh_2014</th>\n",
       "      <th>generation_gwh_2015</th>\n",
       "      <th>generation_gwh_2016</th>\n",
       "      <th>generation_gwh_2017</th>\n",
       "    </tr>\n",
       "  </thead>\n",
       "  <tbody>\n",
       "    <tr>\n",
       "      <th>0</th>\n",
       "      <td>2.5</td>\n",
       "      <td>28.1839</td>\n",
       "      <td>73.2407</td>\n",
       "      <td>6</td>\n",
       "      <td>2</td>\n",
       "      <td>2011.0</td>\n",
       "      <td>797.063475</td>\n",
       "      <td>805.76</td>\n",
       "      <td>701.02725</td>\n",
       "      <td>716.72835</td>\n",
       "      <td>807.6017</td>\n",
       "    </tr>\n",
       "    <tr>\n",
       "      <th>1</th>\n",
       "      <td>98.0</td>\n",
       "      <td>24.7663</td>\n",
       "      <td>74.6090</td>\n",
       "      <td>1</td>\n",
       "      <td>2</td>\n",
       "      <td>2013.0</td>\n",
       "      <td>797.063475</td>\n",
       "      <td>805.76</td>\n",
       "      <td>701.02725</td>\n",
       "      <td>716.72835</td>\n",
       "      <td>807.6017</td>\n",
       "    </tr>\n",
       "  </tbody>\n",
       "</table>\n",
       "</div>"
      ],
      "text/plain": [
       "   capacity_mw  latitude  longitude  primary_fuel  other_fuel1  \\\n",
       "0          2.5   28.1839    73.2407             6            2   \n",
       "1         98.0   24.7663    74.6090             1            2   \n",
       "\n",
       "   commissioning_year  generation_gwh_2013  generation_gwh_2014  \\\n",
       "0              2011.0           797.063475               805.76   \n",
       "1              2013.0           797.063475               805.76   \n",
       "\n",
       "   generation_gwh_2015  generation_gwh_2016  generation_gwh_2017  \n",
       "0            701.02725            716.72835             807.6017  \n",
       "1            701.02725            716.72835             807.6017  "
      ]
     },
     "execution_count": 76,
     "metadata": {},
     "output_type": "execute_result"
    }
   ],
   "source": [
    "df1.head(2)"
   ]
  },
  {
   "cell_type": "markdown",
   "metadata": {},
   "source": [
    "### Dividing the data set into target variable (primary_fuel) and predictor (feature) variables."
   ]
  },
  {
   "cell_type": "code",
   "execution_count": 77,
   "metadata": {},
   "outputs": [],
   "source": [
    "X=df1.drop(['primary_fuel'],axis=1)\n",
    "Y=df1['primary_fuel']"
   ]
  },
  {
   "cell_type": "code",
   "execution_count": 78,
   "metadata": {},
   "outputs": [
    {
     "data": {
      "text/html": [
       "<div>\n",
       "<style scoped>\n",
       "    .dataframe tbody tr th:only-of-type {\n",
       "        vertical-align: middle;\n",
       "    }\n",
       "\n",
       "    .dataframe tbody tr th {\n",
       "        vertical-align: top;\n",
       "    }\n",
       "\n",
       "    .dataframe thead th {\n",
       "        text-align: right;\n",
       "    }\n",
       "</style>\n",
       "<table border=\"1\" class=\"dataframe\">\n",
       "  <thead>\n",
       "    <tr style=\"text-align: right;\">\n",
       "      <th></th>\n",
       "      <th>capacity_mw</th>\n",
       "      <th>latitude</th>\n",
       "      <th>longitude</th>\n",
       "      <th>other_fuel1</th>\n",
       "      <th>commissioning_year</th>\n",
       "      <th>generation_gwh_2013</th>\n",
       "      <th>generation_gwh_2014</th>\n",
       "      <th>generation_gwh_2015</th>\n",
       "      <th>generation_gwh_2016</th>\n",
       "      <th>generation_gwh_2017</th>\n",
       "    </tr>\n",
       "  </thead>\n",
       "  <tbody>\n",
       "    <tr>\n",
       "      <th>0</th>\n",
       "      <td>2.5</td>\n",
       "      <td>28.1839</td>\n",
       "      <td>73.2407</td>\n",
       "      <td>2</td>\n",
       "      <td>2011.0</td>\n",
       "      <td>797.063475</td>\n",
       "      <td>805.76</td>\n",
       "      <td>701.02725</td>\n",
       "      <td>716.72835</td>\n",
       "      <td>807.6017</td>\n",
       "    </tr>\n",
       "    <tr>\n",
       "      <th>1</th>\n",
       "      <td>98.0</td>\n",
       "      <td>24.7663</td>\n",
       "      <td>74.6090</td>\n",
       "      <td>2</td>\n",
       "      <td>2013.0</td>\n",
       "      <td>797.063475</td>\n",
       "      <td>805.76</td>\n",
       "      <td>701.02725</td>\n",
       "      <td>716.72835</td>\n",
       "      <td>807.6017</td>\n",
       "    </tr>\n",
       "  </tbody>\n",
       "</table>\n",
       "</div>"
      ],
      "text/plain": [
       "   capacity_mw  latitude  longitude  other_fuel1  commissioning_year  \\\n",
       "0          2.5   28.1839    73.2407            2              2011.0   \n",
       "1         98.0   24.7663    74.6090            2              2013.0   \n",
       "\n",
       "   generation_gwh_2013  generation_gwh_2014  generation_gwh_2015  \\\n",
       "0           797.063475               805.76            701.02725   \n",
       "1           797.063475               805.76            701.02725   \n",
       "\n",
       "   generation_gwh_2016  generation_gwh_2017  \n",
       "0            716.72835             807.6017  \n",
       "1            716.72835             807.6017  "
      ]
     },
     "execution_count": 78,
     "metadata": {},
     "output_type": "execute_result"
    }
   ],
   "source": [
    "X.head(2)"
   ]
  },
  {
   "cell_type": "code",
   "execution_count": 79,
   "metadata": {},
   "outputs": [
    {
     "data": {
      "text/plain": [
       "0    6\n",
       "1    1\n",
       "Name: primary_fuel, dtype: int32"
      ]
     },
     "execution_count": 79,
     "metadata": {},
     "output_type": "execute_result"
    }
   ],
   "source": [
    "Y.head(2)"
   ]
  },
  {
   "cell_type": "markdown",
   "metadata": {},
   "source": [
    "### Standardadising the Data:  Normalising the data"
   ]
  },
  {
   "cell_type": "code",
   "execution_count": 80,
   "metadata": {},
   "outputs": [],
   "source": [
    "from sklearn.preprocessing import StandardScaler\n",
    "scale=StandardScaler()\n",
    "X=scale.fit_transform(X)"
   ]
  },
  {
   "cell_type": "markdown",
   "metadata": {},
   "source": [
    "### Splitting the dataset into training and testing parts"
   ]
  },
  {
   "cell_type": "code",
   "execution_count": 81,
   "metadata": {},
   "outputs": [],
   "source": [
    "from sklearn.model_selection import train_test_split"
   ]
  },
  {
   "cell_type": "code",
   "execution_count": 82,
   "metadata": {},
   "outputs": [],
   "source": [
    "Xtrain,Xtest,Ytrain,Ytest=train_test_split(X,Y,test_size=.30,random_state=45)"
   ]
  },
  {
   "cell_type": "code",
   "execution_count": 83,
   "metadata": {},
   "outputs": [
    {
     "name": "stdout",
     "output_type": "stream",
     "text": [
      "Xtrain shape: (611, 10)\n",
      "Xtest shape: (263, 10)\n",
      "Ytrain shape: (611,)\n",
      "Ytest shape: (263,)\n"
     ]
    }
   ],
   "source": [
    "print('Xtrain shape:',Xtrain.shape)\n",
    "print('Xtest shape:',Xtest.shape)\n",
    "print('Ytrain shape:',Ytrain.shape)\n",
    "print('Ytest shape:',Ytest.shape)"
   ]
  },
  {
   "cell_type": "markdown",
   "metadata": {},
   "source": [
    "### Fitting the Models"
   ]
  },
  {
   "cell_type": "code",
   "execution_count": 84,
   "metadata": {},
   "outputs": [
    {
     "name": "stdout",
     "output_type": "stream",
     "text": [
      "lr1 coef: [-1.27045019 -0.12369644 -0.68174962 -0.12291814  0.16431967 -0.01021363\n",
      "  0.3457842  -0.88249888  0.75370903  0.38356573]\n",
      "lr1 intercept: 3.150138626108981\n",
      "lr1 score: 0.18495931032049373\n"
     ]
    }
   ],
   "source": [
    "lr1=LinearRegression()\n",
    "lr1.fit(Xtrain,Ytrain)\n",
    "print('lr1 coef:',lr1.coef_)\n",
    "print('lr1 intercept:',lr1.intercept_)\n",
    "pred=lr1.predict(Xtest)\n",
    "print('lr1 score:',lr1.score(Xtest,Ytest))"
   ]
  },
  {
   "cell_type": "markdown",
   "metadata": {},
   "source": [
    "#### Using Regularisation Techniques"
   ]
  },
  {
   "cell_type": "code",
   "execution_count": 85,
   "metadata": {},
   "outputs": [
    {
     "name": "stdout",
     "output_type": "stream",
     "text": [
      "Ridge1 score: 0.26287611072561434\n",
      "r2_score: 0.18495970113122295\n"
     ]
    }
   ],
   "source": [
    "rdg1=Ridge(alpha=0.0001, random_state=45)\n",
    "rdg1.fit(Xtrain,Ytrain)\n",
    "print('Ridge1 score:',rdg1.score(Xtrain,Ytrain))\n",
    "predict=rdg1.predict(Xtest)\n",
    "print('r2_score:',r2_score(Ytest,predict))"
   ]
  },
  {
   "cell_type": "code",
   "execution_count": 86,
   "metadata": {},
   "outputs": [
    {
     "name": "stdout",
     "output_type": "stream",
     "text": [
      "Lasso score: 0.2628753732997209\n",
      "r2 score: 0.18531536937715876\n"
     ]
    }
   ],
   "source": [
    "lso1=Lasso(alpha=.0001,random_state=45)\n",
    "lso1.fit(Xtrain,Ytrain)\n",
    "print('Lasso score:',lso1.score(Xtrain,Ytrain))\n",
    "predict1=lso1.predict(Xtest)\n",
    "print('r2 score:',r2_score(Ytest,predict1))"
   ]
  },
  {
   "cell_type": "code",
   "execution_count": 87,
   "metadata": {},
   "outputs": [
    {
     "name": "stdout",
     "output_type": "stream",
     "text": [
      "ElasticNet score: 0.2628756538764331\n",
      "r2 score: 0.18525511889834434\n"
     ]
    }
   ],
   "source": [
    "en1=ElasticNet(alpha=0.0001, random_state=45)\n",
    "en1.fit(Xtrain,Ytrain)\n",
    "print('ElasticNet score:',en1.score(Xtrain,Ytrain))\n",
    "predict2=en1.predict(Xtest)\n",
    "print('r2 score:',r2_score(Ytest,predict2))"
   ]
  },
  {
   "cell_type": "markdown",
   "metadata": {},
   "source": [
    "#### Developing other models"
   ]
  },
  {
   "cell_type": "code",
   "execution_count": 95,
   "metadata": {},
   "outputs": [
    {
     "name": "stdout",
     "output_type": "stream",
     "text": [
      "dtr1 score: 1.0\n",
      "dtr1 r2_score: 0.2786782070454821\n",
      "Mean absolute error is = 0.8973384030418251\n",
      "Mean squared error of dtr1 =  3.612167300380228\n",
      "Root Mean squared error of dtr1 =  1.9005702566283174\n"
     ]
    }
   ],
   "source": [
    "dtr1=DecisionTreeRegressor(criterion='mse')\n",
    "dtr1.fit(Xtrain,Ytrain)\n",
    "print('dtr1 score:',dtr1.score(Xtrain,Ytrain))\n",
    "\n",
    "dtr1predict=dtr1.predict(Xtest)\n",
    "print('dtr1 r2_score:', r2_score(Ytest,dtr1predict))\n",
    "\n",
    "print(\"Mean absolute error is =\",mean_absolute_error(Ytest,dtr1predict))\n",
    "print(\"Mean squared error of dtr1 = \", mean_squared_error(Ytest,dtr1predict))\n",
    "print(\"Root Mean squared error of dtr1 = \",np.sqrt(mean_squared_error(Ytest,dtr1predict)))"
   ]
  },
  {
   "cell_type": "code",
   "execution_count": 94,
   "metadata": {},
   "outputs": [
    {
     "name": "stdout",
     "output_type": "stream",
     "text": [
      "knr1 score: 0.6707102339172167\n",
      "knr1 r2_score: 0.31342313888295437\n",
      "Mean absolute error is = 1.193916349809886\n",
      "Mean squareed error of knr1 = 313008.0240308754\n",
      "Root Mean squared error of knr1= 1.854231621168986\n"
     ]
    }
   ],
   "source": [
    "knr1=KNeighborsRegressor()\n",
    "knr1.fit(Xtrain,Ytrain)\n",
    "print('knr1 score:',knr1.score(Xtrain,Ytrain))\n",
    "\n",
    "knr1predict=knr1.predict(Xtest)\n",
    "print('knr1 r2_score:',r2_score(Ytest,knr1predict))\n",
    "\n",
    "print(\"Mean absolute error is =\",mean_absolute_error(Ytest,knr1predict))\n",
    "print(\"Mean squareed error of knr1 =\",mean_squared_error(Ytest,knrpredict))\n",
    "print(\"Root Mean squared error of knr1=\",np.sqrt(mean_squared_error(Ytest,knr1predict)))"
   ]
  },
  {
   "cell_type": "code",
   "execution_count": 93,
   "metadata": {},
   "outputs": [
    {
     "name": "stdout",
     "output_type": "stream",
     "text": [
      "sgd1 score: 0.26026035406284054\n",
      "sgd1 r2_score: 0.1988857515613187\n",
      "Mean absolute error is = 1.62639982370151\n",
      "Mean squared error of sgd1 = 4.011744439643389\n",
      "Root Mean squared error of sgd1 = 2.0029339578836316\n"
     ]
    }
   ],
   "source": [
    "sgd1=SGDRegressor()\n",
    "sgd1.fit(Xtrain,Ytrain)\n",
    "print('sgd1 score:',sgd1.score(Xtrain,Ytrain))\n",
    "\n",
    "sgd1predict=sgd1.predict(Xtest)\n",
    "print('sgd1 r2_score:', r2_score(Ytest,sgd1predict))\n",
    "\n",
    "print(\"Mean absolute error is =\",mean_absolute_error(Ytest,sgd1predict))\n",
    "print(\"Mean squared error of sgd1 =\",mean_squared_error(Ytest,sgd1predict))\n",
    "print(\"Root Mean squared error of sgd1 =\",np.sqrt(mean_squared_error(Ytest,sgd1predict)))"
   ]
  },
  {
   "cell_type": "markdown",
   "metadata": {},
   "source": [
    "From the above fitted models the scores of Decision tree are best with r2 score of 35.6% and RMSE value as 1.79. Now moving ahead with ensemble techniques to improve the model scores in turn its performance"
   ]
  },
  {
   "cell_type": "markdown",
   "metadata": {},
   "source": [
    "### Ensemble Techniques"
   ]
  },
  {
   "cell_type": "code",
   "execution_count": 92,
   "metadata": {},
   "outputs": [
    {
     "name": "stdout",
     "output_type": "stream",
     "text": [
      "rfr1 score: 0.9501957009148582\n",
      "rfr r2_score: 0.602928905415471\n",
      "Mean absolute error is = 0.9180988593155894\n",
      "Mean squared error of sgd= 1.988415209125475\n",
      "Root Mean squared error of sgd= 1.410111771855506\n"
     ]
    }
   ],
   "source": [
    "rfr1=RandomForestRegressor()\n",
    "rfr1.fit(Xtrain,Ytrain)\n",
    "print('rfr1 score:',rfr1.score(Xtrain,Ytrain))\n",
    "\n",
    "rfrpredict=rfr1.predict(Xtest)\n",
    "print('rfr r2_score:', r2_score(Ytest,rfrpredict))\n",
    "\n",
    "print(\"Mean absolute error is =\",mean_absolute_error(Ytest,rfrpredict))\n",
    "print(\"Mean squared error of sgd=\",mean_squared_error(Ytest,rfrpredict))\n",
    "print(\"Root Mean squared error of sgd=\",np.sqrt(mean_squared_error(Ytest,rfrpredict)))"
   ]
  },
  {
   "cell_type": "code",
   "execution_count": 96,
   "metadata": {},
   "outputs": [
    {
     "name": "stdout",
     "output_type": "stream",
     "text": [
      "abr1 score: 0.564448178147918\n",
      "abr r2_score: 0.4302982195038848\n",
      "Mean absolute error is= 1.2285268953715753\n",
      "Mean squared error of abr= 2.852898890032867\n",
      "Root Mean squared error of abr= 1.689052660526861\n"
     ]
    }
   ],
   "source": [
    "abr1=AdaBoostRegressor()\n",
    "abr1.fit(Xtrain,Ytrain)\n",
    "print('abr1 score:',abr1.score(Xtrain,Ytrain))\n",
    "\n",
    "abrpredict=abr1.predict(Xtest)\n",
    "print('abr r2_score:', r2_score(Ytest,abrpredict))\n",
    "\n",
    "print(\"Mean absolute error is=\",mean_absolute_error(Ytest,abrpredict))\n",
    "print(\"Mean squared error of abr=\",mean_squared_error(Ytest,abrpredict))\n",
    "print(\"Root Mean squared error of abr=\",np.sqrt(mean_squared_error(Ytest,abrpredict)))"
   ]
  },
  {
   "cell_type": "markdown",
   "metadata": {},
   "source": [
    "From the above fitted Ensemble techniques it is clear that Rando Forest Regressor is working best among all. It is giving the r2 score as 60.29% and RMSE value as 1.41. Now moving ahead with cross validation to validate the model performance."
   ]
  },
  {
   "cell_type": "markdown",
   "metadata": {},
   "source": [
    "### Cross Validation"
   ]
  },
  {
   "cell_type": "code",
   "execution_count": 104,
   "metadata": {},
   "outputs": [
    {
     "name": "stdout",
     "output_type": "stream",
     "text": [
      "[0.6920857  0.62468427 0.52082876 0.6402466  0.56663872 0.56739989\n",
      " 0.61928818 0.72166931 0.48478013 0.7812607 ]\n",
      "0.6218882253845673\n",
      "0.08698751440428268\n"
     ]
    }
   ],
   "source": [
    "score=cross_val_score(rfr1,Xtrain,Ytrain,cv=10)\n",
    "print(score)\n",
    "print(score.mean())\n",
    "print(score.std())"
   ]
  },
  {
   "cell_type": "code",
   "execution_count": 105,
   "metadata": {},
   "outputs": [
    {
     "name": "stdout",
     "output_type": "stream",
     "text": [
      "[0.67228628 0.60462173 0.53347565 0.60977293 0.62096068]\n",
      "0.6082234550833987\n",
      "0.044427222771345684\n"
     ]
    }
   ],
   "source": [
    "score=cross_val_score(rfr1,Xtrain,Ytrain,cv=5)\n",
    "print(score)\n",
    "print(score.mean())\n",
    "print(score.std())"
   ]
  },
  {
   "cell_type": "markdown",
   "metadata": {},
   "source": [
    "From the above cross validation scores it is clear that the model's mean score is 62.18 % and Standard Deviation is 0.086. Now moving ahead with HYper parameter Tuning of Random Forest Regressor."
   ]
  },
  {
   "cell_type": "markdown",
   "metadata": {},
   "source": [
    "### Hyper Parameter Tuning"
   ]
  },
  {
   "cell_type": "code",
   "execution_count": 106,
   "metadata": {},
   "outputs": [],
   "source": [
    "param_grid = {  'bootstrap': [True], \n",
    "              'max_depth': [5, 10, None], \n",
    "              'max_features': ['auto', 'log2','sqrt',None], \n",
    "              'n_estimators': [10, 20, 30, 40, 50, 60, 70, 80, 90, 100]}"
   ]
  },
  {
   "cell_type": "code",
   "execution_count": 107,
   "metadata": {},
   "outputs": [],
   "source": [
    "g_search = GridSearchCV(estimator = rfr1, \n",
    "                        param_grid = param_grid, \n",
    "                        cv = 3, \n",
    "                        n_jobs = 1,\n",
    "                        verbose = 0, \n",
    "                        return_train_score=True)"
   ]
  },
  {
   "cell_type": "code",
   "execution_count": 108,
   "metadata": {},
   "outputs": [],
   "source": [
    "g_search.fit(Xtrain, Ytrain);"
   ]
  },
  {
   "cell_type": "code",
   "execution_count": 109,
   "metadata": {},
   "outputs": [
    {
     "name": "stdout",
     "output_type": "stream",
     "text": [
      "{'bootstrap': True, 'max_depth': None, 'max_features': 'sqrt', 'n_estimators': 100}\n"
     ]
    }
   ],
   "source": [
    "print(g_search.best_params_)"
   ]
  },
  {
   "cell_type": "code",
   "execution_count": 110,
   "metadata": {},
   "outputs": [
    {
     "name": "stdout",
     "output_type": "stream",
     "text": [
      "modelrfr score: 0.952322435439659\n",
      "modelrfr r2_score: 0.626258578200694\n",
      "Mean absolute error is= 0.9208365019011406\n",
      "Mean squared error of rfr= 1.8715870722433459\n",
      "Root Mean squared error of rfr= 1.36805960112977\n"
     ]
    }
   ],
   "source": [
    "modelrfr=RandomForestRegressor(bootstrap= True, max_depth= None, max_features= 'sqrt', n_estimators=100 )\n",
    "modelrfr.fit(Xtrain,Ytrain)\n",
    "print('modelrfr score:',modelrfr.score(Xtrain,Ytrain))\n",
    "\n",
    "modelrfr1predict=modelrfr.predict(Xtest)\n",
    "print('modelrfr r2_score:', r2_score(Ytest,modelrfr1predict))\n",
    "\n",
    "print(\"Mean absolute error is=\",mean_absolute_error(Ytest,modelrfr1predict))\n",
    "print(\"Mean squared error of rfr=\",mean_squared_error(Ytest,modelrfr1predict))\n",
    "print(\"Root Mean squared error of rfr=\",np.sqrt(mean_squared_error(Ytest,modelrfr1predict)))"
   ]
  },
  {
   "cell_type": "markdown",
   "metadata": {},
   "source": [
    "From the Hyper parameter Tuning the scores of Random Forest Regessor Model has improved a little and new r2 score of 62.62% and RMSE value as 1.36. Hence saving this model for further use."
   ]
  },
  {
   "cell_type": "markdown",
   "metadata": {},
   "source": [
    "### Saving the best Model"
   ]
  },
  {
   "cell_type": "code",
   "execution_count": 113,
   "metadata": {},
   "outputs": [
    {
     "name": "stdout",
     "output_type": "stream",
     "text": [
      "[3.18 4.95 1.28 2.79 1.82 1.17 6.95 1.11 2.94 1.23 1.07 5.96 2.38 6.44\n",
      " 2.85 2.48 1.31 1.76 2.07 1.77 2.98 5.37 3.97 2.31 1.47 1.28 3.01 2.43\n",
      " 1.1  6.05 1.48 3.22 3.8  5.9  3.11 2.28 1.96 3.97 2.46 6.   3.11 3.48\n",
      " 0.57 5.75 4.03 2.09 5.96 2.57 3.92 6.95 1.85 2.57 2.37 2.14 3.3  2.72\n",
      " 3.19 1.   6.05 6.52 3.65 2.57 2.62 1.15 5.44 1.19 2.03 2.96 2.95 6.\n",
      " 1.08 2.79 1.32 3.7  2.29 2.82 2.66 6.31 2.63 1.05 2.   1.97 6.13 6.49\n",
      " 6.2  2.02 5.8  0.77 3.27 2.22 2.92 3.61 5.85 5.58 1.52 2.11 2.73 6.08\n",
      " 4.01 3.33 2.6  6.03 4.09 2.7  1.25 6.28 3.42 3.02 1.26 2.93 1.75 3.7\n",
      " 3.03 6.71 6.17 2.31 2.87 3.32 5.36 1.18 5.57 3.18 5.54 5.7  1.53 4.1\n",
      " 2.12 1.64 1.23 1.3  2.51 2.04 3.54 3.07 1.61 2.21 6.92 2.56 3.17 1.04\n",
      " 4.83 1.05 0.95 1.61 3.02 5.52 2.91 0.66 2.99 1.36 1.88 5.9  3.94 4.1\n",
      " 3.87 1.96 2.54 6.64 2.83 3.3  5.64 1.38 2.57 2.45 1.9  6.26 1.4  1.52\n",
      " 3.   2.22 2.39 2.99 2.96 3.9  4.66 3.04 3.3  1.1  1.84 5.68 1.02 6.16\n",
      " 6.24 0.69 2.23 3.24 3.09 2.28 4.19 3.29 5.37 2.3  2.39 0.79 5.79 1.43\n",
      " 2.32 1.65 1.12 2.36 1.36 5.73 2.75 3.1  3.02 3.12 1.11 2.85 2.94 4.04\n",
      " 3.93 3.39 1.59 1.75 2.37 2.03 2.87 3.   6.64 1.08 3.37 2.76 5.95 3.98\n",
      " 2.53 2.46 2.89 6.33 2.82 1.   5.68 3.67 2.97 3.11 1.13 4.02 1.91 2.77\n",
      " 2.66 2.93 1.13 1.1  1.91 1.3  1.23 1.7  3.35 2.74 2.76 2.48 4.34 6.3\n",
      " 1.53 2.63 4.58 5.99 2.41 1.03 2.2  2.35 3.01 1.16 1.57]\n"
     ]
    }
   ],
   "source": [
    "import joblib\n",
    "\n",
    "joblib.dump(modelrfr,'modelrfr_global_power_plant_fuel_pred_model.obj')\n",
    "\n",
    "modelrfrloadmodel=joblib.load('modelrfr_global_power_plant_fuel_pred_model.obj')\n",
    "pred=modelrfrloadmodel.predict(Xtest)\n",
    "print(pred)"
   ]
  },
  {
   "cell_type": "code",
   "execution_count": 119,
   "metadata": {},
   "outputs": [
    {
     "data": {
      "text/plain": [
       "array([3., 5., 1., 3., 2., 1., 7., 1., 3., 1., 1., 6., 2., 6., 3., 2., 1.,\n",
       "       2., 2., 2., 3., 5., 4., 2., 1., 1., 3., 2., 1., 6., 1., 3., 4., 6.,\n",
       "       3., 2., 2., 4., 2., 6., 3., 3., 1., 6., 4., 2., 6., 3., 4., 7., 2.,\n",
       "       3., 2., 2., 3., 3., 3., 1., 6., 7., 4., 3., 3., 1., 5., 1., 2., 3.,\n",
       "       3., 6., 1., 3., 1., 4., 2., 3., 3., 6., 3., 1., 2., 2., 6., 6., 6.,\n",
       "       2., 6., 1., 3., 2., 3., 4., 6., 6., 2., 2., 3., 6., 4., 3., 3., 6.,\n",
       "       4., 3., 1., 6., 3., 3., 1., 3., 2., 4., 3., 7., 6., 2., 3., 3., 5.,\n",
       "       1., 6., 3., 6., 6., 2., 4., 2., 2., 1., 1., 3., 2., 4., 3., 2., 2.,\n",
       "       7., 3., 3., 1., 5., 1., 1., 2., 3., 6., 3., 1., 3., 1., 2., 6., 4.,\n",
       "       4., 4., 2., 3., 7., 3., 3., 6., 1., 3., 2., 2., 6., 1., 2., 3., 2.,\n",
       "       2., 3., 3., 4., 5., 3., 3., 1., 2., 6., 1., 6., 6., 1., 2., 3., 3.,\n",
       "       2., 4., 3., 5., 2., 2., 1., 6., 1., 2., 2., 1., 2., 1., 6., 3., 3.,\n",
       "       3., 3., 1., 3., 3., 4., 4., 3., 2., 2., 2., 2., 3., 3., 7., 1., 3.,\n",
       "       3., 6., 4., 3., 2., 3., 6., 3., 1., 6., 4., 3., 3., 1., 4., 2., 3.,\n",
       "       3., 3., 1., 1., 2., 1., 1., 2., 3., 3., 3., 2., 4., 6., 2., 3., 5.,\n",
       "       6., 2., 1., 2., 2., 3., 1., 2.])"
      ]
     },
     "execution_count": 119,
     "metadata": {},
     "output_type": "execute_result"
    }
   ],
   "source": [
    "p=np.round(pred,0)\n",
    "p"
   ]
  },
  {
   "cell_type": "code",
   "execution_count": null,
   "metadata": {},
   "outputs": [],
   "source": []
  }
 ],
 "metadata": {
  "kernelspec": {
   "display_name": "Python 3",
   "language": "python",
   "name": "python3"
  },
  "language_info": {
   "codemirror_mode": {
    "name": "ipython",
    "version": 3
   },
   "file_extension": ".py",
   "mimetype": "text/x-python",
   "name": "python",
   "nbconvert_exporter": "python",
   "pygments_lexer": "ipython3",
   "version": "3.8.5"
  }
 },
 "nbformat": 4,
 "nbformat_minor": 4
}
