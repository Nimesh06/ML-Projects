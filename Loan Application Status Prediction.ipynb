{
 "cells": [
  {
   "cell_type": "markdown",
   "metadata": {},
   "source": [
    "# Loan Application Status Prediction"
   ]
  },
  {
   "cell_type": "raw",
   "metadata": {},
   "source": [
    "Problem Statement:\n",
    "This dataset includes details of applicants who have applied for loan. The dataset includes details like credit history, loan amount, their income, dependents etc. \n",
    "Independent Variables:\n",
    "- Loan_ID\n",
    "- Gender\n",
    "- Married\n",
    "- Dependents\n",
    "- Education\n",
    "- Self_Employed\n",
    "- ApplicantIncome\n",
    "- CoapplicantIncome\n",
    "- Loan_Amount\n",
    "- Loan_Amount_Term\n",
    "- Credit History\n",
    "- Property_Area\n",
    "Dependent Variable (Target Variable):\n",
    "- Loan_Status\n",
    "You have to build a model that can predict whether the loan of the applicant will be approved or not on the basis of the details provided in the dataset. "
   ]
  },
  {
   "cell_type": "code",
   "execution_count": 1,
   "metadata": {},
   "outputs": [],
   "source": [
    "# Importing necessary libraries.\n",
    "import pandas as pd\n",
    "import numpy as np\n",
    "import seaborn as sns\n",
    "import matplotlib.pyplot as plt\n",
    "\n",
    "import warnings\n",
    "warnings.filterwarnings('ignore')"
   ]
  },
  {
   "cell_type": "code",
   "execution_count": 2,
   "metadata": {},
   "outputs": [],
   "source": [
    "# Reading the data set\n",
    "df=pd.read_csv('loan_prediction.csv')"
   ]
  },
  {
   "cell_type": "code",
   "execution_count": 3,
   "metadata": {},
   "outputs": [
    {
     "data": {
      "text/plain": [
       "(614, 13)"
      ]
     },
     "execution_count": 3,
     "metadata": {},
     "output_type": "execute_result"
    }
   ],
   "source": [
    "# finding the number of rows and columns in the data set.\n",
    "df.shape"
   ]
  },
  {
   "cell_type": "markdown",
   "metadata": {},
   "source": [
    "There are 614 rows and 13 columns in the given data set"
   ]
  },
  {
   "cell_type": "code",
   "execution_count": 4,
   "metadata": {},
   "outputs": [
    {
     "data": {
      "text/html": [
       "<div>\n",
       "<style scoped>\n",
       "    .dataframe tbody tr th:only-of-type {\n",
       "        vertical-align: middle;\n",
       "    }\n",
       "\n",
       "    .dataframe tbody tr th {\n",
       "        vertical-align: top;\n",
       "    }\n",
       "\n",
       "    .dataframe thead th {\n",
       "        text-align: right;\n",
       "    }\n",
       "</style>\n",
       "<table border=\"1\" class=\"dataframe\">\n",
       "  <thead>\n",
       "    <tr style=\"text-align: right;\">\n",
       "      <th></th>\n",
       "      <th>Loan_ID</th>\n",
       "      <th>Gender</th>\n",
       "      <th>Married</th>\n",
       "      <th>Dependents</th>\n",
       "      <th>Education</th>\n",
       "      <th>Self_Employed</th>\n",
       "      <th>ApplicantIncome</th>\n",
       "      <th>CoapplicantIncome</th>\n",
       "      <th>LoanAmount</th>\n",
       "      <th>Loan_Amount_Term</th>\n",
       "      <th>Credit_History</th>\n",
       "      <th>Property_Area</th>\n",
       "      <th>Loan_Status</th>\n",
       "    </tr>\n",
       "  </thead>\n",
       "  <tbody>\n",
       "    <tr>\n",
       "      <th>0</th>\n",
       "      <td>LP001002</td>\n",
       "      <td>Male</td>\n",
       "      <td>No</td>\n",
       "      <td>0</td>\n",
       "      <td>Graduate</td>\n",
       "      <td>No</td>\n",
       "      <td>5849</td>\n",
       "      <td>0.0</td>\n",
       "      <td>NaN</td>\n",
       "      <td>360.0</td>\n",
       "      <td>1.0</td>\n",
       "      <td>Urban</td>\n",
       "      <td>Y</td>\n",
       "    </tr>\n",
       "    <tr>\n",
       "      <th>1</th>\n",
       "      <td>LP001003</td>\n",
       "      <td>Male</td>\n",
       "      <td>Yes</td>\n",
       "      <td>1</td>\n",
       "      <td>Graduate</td>\n",
       "      <td>No</td>\n",
       "      <td>4583</td>\n",
       "      <td>1508.0</td>\n",
       "      <td>128.0</td>\n",
       "      <td>360.0</td>\n",
       "      <td>1.0</td>\n",
       "      <td>Rural</td>\n",
       "      <td>N</td>\n",
       "    </tr>\n",
       "    <tr>\n",
       "      <th>2</th>\n",
       "      <td>LP001005</td>\n",
       "      <td>Male</td>\n",
       "      <td>Yes</td>\n",
       "      <td>0</td>\n",
       "      <td>Graduate</td>\n",
       "      <td>Yes</td>\n",
       "      <td>3000</td>\n",
       "      <td>0.0</td>\n",
       "      <td>66.0</td>\n",
       "      <td>360.0</td>\n",
       "      <td>1.0</td>\n",
       "      <td>Urban</td>\n",
       "      <td>Y</td>\n",
       "    </tr>\n",
       "    <tr>\n",
       "      <th>3</th>\n",
       "      <td>LP001006</td>\n",
       "      <td>Male</td>\n",
       "      <td>Yes</td>\n",
       "      <td>0</td>\n",
       "      <td>Not Graduate</td>\n",
       "      <td>No</td>\n",
       "      <td>2583</td>\n",
       "      <td>2358.0</td>\n",
       "      <td>120.0</td>\n",
       "      <td>360.0</td>\n",
       "      <td>1.0</td>\n",
       "      <td>Urban</td>\n",
       "      <td>Y</td>\n",
       "    </tr>\n",
       "    <tr>\n",
       "      <th>4</th>\n",
       "      <td>LP001008</td>\n",
       "      <td>Male</td>\n",
       "      <td>No</td>\n",
       "      <td>0</td>\n",
       "      <td>Graduate</td>\n",
       "      <td>No</td>\n",
       "      <td>6000</td>\n",
       "      <td>0.0</td>\n",
       "      <td>141.0</td>\n",
       "      <td>360.0</td>\n",
       "      <td>1.0</td>\n",
       "      <td>Urban</td>\n",
       "      <td>Y</td>\n",
       "    </tr>\n",
       "  </tbody>\n",
       "</table>\n",
       "</div>"
      ],
      "text/plain": [
       "    Loan_ID Gender Married Dependents     Education Self_Employed  \\\n",
       "0  LP001002   Male      No          0      Graduate            No   \n",
       "1  LP001003   Male     Yes          1      Graduate            No   \n",
       "2  LP001005   Male     Yes          0      Graduate           Yes   \n",
       "3  LP001006   Male     Yes          0  Not Graduate            No   \n",
       "4  LP001008   Male      No          0      Graduate            No   \n",
       "\n",
       "   ApplicantIncome  CoapplicantIncome  LoanAmount  Loan_Amount_Term  \\\n",
       "0             5849                0.0         NaN             360.0   \n",
       "1             4583             1508.0       128.0             360.0   \n",
       "2             3000                0.0        66.0             360.0   \n",
       "3             2583             2358.0       120.0             360.0   \n",
       "4             6000                0.0       141.0             360.0   \n",
       "\n",
       "   Credit_History Property_Area Loan_Status  \n",
       "0             1.0         Urban           Y  \n",
       "1             1.0         Rural           N  \n",
       "2             1.0         Urban           Y  \n",
       "3             1.0         Urban           Y  \n",
       "4             1.0         Urban           Y  "
      ]
     },
     "execution_count": 4,
     "metadata": {},
     "output_type": "execute_result"
    }
   ],
   "source": [
    "# looking at the first 5 rows of the data set.\n",
    "df.head()"
   ]
  },
  {
   "cell_type": "markdown",
   "metadata": {},
   "source": [
    "It is clear from the above analysis the data set is a mix of categorical values, string values and numerical values. The data set also contains NaN values."
   ]
  },
  {
   "cell_type": "code",
   "execution_count": 5,
   "metadata": {},
   "outputs": [
    {
     "name": "stdout",
     "output_type": "stream",
     "text": [
      "<class 'pandas.core.frame.DataFrame'>\n",
      "RangeIndex: 614 entries, 0 to 613\n",
      "Data columns (total 13 columns):\n",
      " #   Column             Non-Null Count  Dtype  \n",
      "---  ------             --------------  -----  \n",
      " 0   Loan_ID            614 non-null    object \n",
      " 1   Gender             601 non-null    object \n",
      " 2   Married            611 non-null    object \n",
      " 3   Dependents         599 non-null    object \n",
      " 4   Education          614 non-null    object \n",
      " 5   Self_Employed      582 non-null    object \n",
      " 6   ApplicantIncome    614 non-null    int64  \n",
      " 7   CoapplicantIncome  614 non-null    float64\n",
      " 8   LoanAmount         592 non-null    float64\n",
      " 9   Loan_Amount_Term   600 non-null    float64\n",
      " 10  Credit_History     564 non-null    float64\n",
      " 11  Property_Area      614 non-null    object \n",
      " 12  Loan_Status        614 non-null    object \n",
      "dtypes: float64(4), int64(1), object(8)\n",
      "memory usage: 62.5+ KB\n"
     ]
    }
   ],
   "source": [
    "#finding out the general information about the variables.\n",
    "df.info()"
   ]
  },
  {
   "cell_type": "markdown",
   "metadata": {},
   "source": [
    "From the above analysis it is seen that most of the values are of string type."
   ]
  },
  {
   "cell_type": "code",
   "execution_count": 6,
   "metadata": {},
   "outputs": [
    {
     "data": {
      "text/plain": [
       "Loan_ID               0\n",
       "Gender               13\n",
       "Married               3\n",
       "Dependents           15\n",
       "Education             0\n",
       "Self_Employed        32\n",
       "ApplicantIncome       0\n",
       "CoapplicantIncome     0\n",
       "LoanAmount           22\n",
       "Loan_Amount_Term     14\n",
       "Credit_History       50\n",
       "Property_Area         0\n",
       "Loan_Status           0\n",
       "dtype: int64"
      ]
     },
     "execution_count": 6,
     "metadata": {},
     "output_type": "execute_result"
    }
   ],
   "source": [
    "# finding out the variables where null values are present.\n",
    "df.isnull().sum()"
   ]
  },
  {
   "cell_type": "markdown",
   "metadata": {},
   "source": [
    "From the above analysis it is seen that six variables are having null values these will be treated in the data cleaning part."
   ]
  },
  {
   "cell_type": "code",
   "execution_count": 7,
   "metadata": {},
   "outputs": [
    {
     "data": {
      "text/plain": [
       "<AxesSubplot:>"
      ]
     },
     "execution_count": 7,
     "metadata": {},
     "output_type": "execute_result"
    },
    {
     "data": {
      "image/png": "[encoded data removed]",
      "text/plain": [
       "<Figure size 432x288 with 2 Axes>"
      ]
     },
     "metadata": {
      "needs_background": "light"
     },
     "output_type": "display_data"
    }
   ],
   "source": [
    "# confirming about the presence of null values with the help of heatmap.\n",
    "sns.heatmap(df.isnull())"
   ]
  },
  {
   "cell_type": "markdown",
   "metadata": {},
   "source": [
    "The heat map clearly shows that there are missing values in the data set."
   ]
  },
  {
   "cell_type": "code",
   "execution_count": 107,
   "metadata": {},
   "outputs": [
    {
     "data": {
      "text/plain": [
       "Y    422\n",
       "N    192\n",
       "Name: Loan_Status, dtype: int64"
      ]
     },
     "execution_count": 107,
     "metadata": {},
     "output_type": "execute_result"
    }
   ],
   "source": [
    "#Finding out the value counts of the target variable.\n",
    "df.Loan_Status.value_counts()"
   ]
  },
  {
   "cell_type": "markdown",
   "metadata": {},
   "source": [
    "The above analysis clearly shows that there are 422 loan sanctioned cases and 192 loan rejection cases."
   ]
  },
  {
   "cell_type": "code",
   "execution_count": 8,
   "metadata": {},
   "outputs": [
    {
     "data": {
      "image/png": "[encoded data removed]",
      "text/plain": [
       "<Figure size 720x1080 with 12 Axes>"
      ]
     },
     "metadata": {
      "needs_background": "light"
     },
     "output_type": "display_data"
    }
   ],
   "source": [
    "# Finding out the value counts of categories present in the different variables.\n",
    "variables=['Gender','Married','Dependents','Education', 'Self_Employed','ApplicantIncome','CoapplicantIncome','LoanAmount','Loan_Amount_Term','Credit_History','Property_Area','Loan_Status']\n",
    "fig=plt.subplots(figsize=(10,15))\n",
    "for i, j in enumerate(variables):\n",
    "    plt.subplot(4, 3, i+1)\n",
    "    plt.subplots_adjust(hspace = 1)\n",
    "    sns.countplot(x=j,data = df)\n",
    "    plt.xticks(rotation=90)\n",
    "    plt.title(\"No. of Applicants\")"
   ]
  },
  {
   "cell_type": "markdown",
   "metadata": {},
   "source": [
    "The above plot shows about the number of applicants present in different categories in each varaible in the data set\n",
    "1. The number of Male applicants are more than the Female Applicants\n",
    "2. The number of Married Applicants are more.\n",
    "3. The number of Applicants having no dependents are more.\n",
    "4. The number of Applicants are mostly graduates\n",
    "5. The number of Applicants are less in self employed category.\n",
    "6. The variables 'Applicants income, coapplicant income & loan amount' have more number of different values hence the plots are of this nature.\n",
    "7. The number of Applicants having Loan Amount Term as 360 are highest\n",
    "8. The number of applicants mostly belongs to semiurban and urban areas.\n",
    "9. The number of Applicants with approved loan are more in numbers."
   ]
  },
  {
   "cell_type": "code",
   "execution_count": 9,
   "metadata": {},
   "outputs": [
    {
     "data": {
      "image/png": "[encoded data removed]",
      "text/plain": [
       "<Figure size 720x1080 with 12 Axes>"
      ]
     },
     "metadata": {
      "needs_background": "light"
     },
     "output_type": "display_data"
    }
   ],
   "source": [
    "# Finding out the value count of the categories present in different variables inn accordance with the loan approval status.\n",
    "variables=['Gender','Married','Dependents','Education', 'Self_Employed','ApplicantIncome','CoapplicantIncome','LoanAmount','Loan_Amount_Term','Credit_History','Property_Area','Loan_Status']\n",
    "fig=plt.subplots(figsize=(10,15))\n",
    "for i, j in enumerate(variables):\n",
    "    plt.subplot(4, 3, i+1)\n",
    "    plt.subplots_adjust(hspace = 1)\n",
    "    sns.countplot(x=j,data = df,hue='Loan_Status')\n",
    "    plt.xticks(rotation=90)\n",
    "    plt.title(\"No. of Applicants\")"
   ]
  },
  {
   "cell_type": "markdown",
   "metadata": {},
   "source": [
    "The above plots are created in accordance with the loan approval status(yes or no).\n",
    "1. The number of Applicants with loan status as yes are more in male category.\n",
    "2. The number of Applicants with loan status as yes are more in married category.\n",
    "3. The number of Applicants with loan status as yes are more with 'no dependent' category.\n",
    "4. The number of Applicants with loan status as yes are more in Graduate category.\n",
    "5. The number of Applicants with loan status as yes are less in self employed category.\n",
    "6. The variables 'Applicants income, coapplicant income & loan amount' have more number of different values hence the plots are of this nature.\n",
    "7. The number of Applicants with loan status as yes are having Loan Amount Term as 360 are highest\n",
    "8. The number of applicants with loan status as yes mostly belongs to semiurban and urban areas.\n",
    "9. The number of Applicants with approved loan are more in numbers."
   ]
  },
  {
   "cell_type": "markdown",
   "metadata": {},
   "source": [
    "### Cleaning of the Data"
   ]
  },
  {
   "cell_type": "code",
   "execution_count": 10,
   "metadata": {},
   "outputs": [],
   "source": [
    "# Dropping the column 'Loan_ID' as this has no impact on the loan approval.\n",
    "df=df.drop(['Loan_ID'],axis=1)"
   ]
  },
  {
   "cell_type": "code",
   "execution_count": 11,
   "metadata": {},
   "outputs": [
    {
     "data": {
      "text/html": [
       "<div>\n",
       "<style scoped>\n",
       "    .dataframe tbody tr th:only-of-type {\n",
       "        vertical-align: middle;\n",
       "    }\n",
       "\n",
       "    .dataframe tbody tr th {\n",
       "        vertical-align: top;\n",
       "    }\n",
       "\n",
       "    .dataframe thead th {\n",
       "        text-align: right;\n",
       "    }\n",
       "</style>\n",
       "<table border=\"1\" class=\"dataframe\">\n",
       "  <thead>\n",
       "    <tr style=\"text-align: right;\">\n",
       "      <th></th>\n",
       "      <th>Gender</th>\n",
       "      <th>Married</th>\n",
       "      <th>Dependents</th>\n",
       "      <th>Education</th>\n",
       "      <th>Self_Employed</th>\n",
       "      <th>ApplicantIncome</th>\n",
       "      <th>CoapplicantIncome</th>\n",
       "      <th>LoanAmount</th>\n",
       "      <th>Loan_Amount_Term</th>\n",
       "      <th>Credit_History</th>\n",
       "      <th>Property_Area</th>\n",
       "      <th>Loan_Status</th>\n",
       "    </tr>\n",
       "  </thead>\n",
       "  <tbody>\n",
       "    <tr>\n",
       "      <th>0</th>\n",
       "      <td>Male</td>\n",
       "      <td>No</td>\n",
       "      <td>0</td>\n",
       "      <td>Graduate</td>\n",
       "      <td>No</td>\n",
       "      <td>5849</td>\n",
       "      <td>0.0</td>\n",
       "      <td>NaN</td>\n",
       "      <td>360.0</td>\n",
       "      <td>1.0</td>\n",
       "      <td>Urban</td>\n",
       "      <td>Y</td>\n",
       "    </tr>\n",
       "  </tbody>\n",
       "</table>\n",
       "</div>"
      ],
      "text/plain": [
       "  Gender Married Dependents Education Self_Employed  ApplicantIncome  \\\n",
       "0   Male      No          0  Graduate            No             5849   \n",
       "\n",
       "   CoapplicantIncome  LoanAmount  Loan_Amount_Term  Credit_History  \\\n",
       "0                0.0         NaN             360.0             1.0   \n",
       "\n",
       "  Property_Area Loan_Status  \n",
       "0         Urban           Y  "
      ]
     },
     "execution_count": 11,
     "metadata": {},
     "output_type": "execute_result"
    }
   ],
   "source": [
    "# checking whether the 'Loan_ID' column is being droped.\n",
    "df.head(1)"
   ]
  },
  {
   "cell_type": "markdown",
   "metadata": {},
   "source": [
    "Renaming the columns for the ease of analysis"
   ]
  },
  {
   "cell_type": "code",
   "execution_count": 12,
   "metadata": {},
   "outputs": [],
   "source": [
    "df.rename({'ApplicantIncome': 'Applicant_Income', 'LoanAmount': 'Loan_Amount','Loan_Amount_Term':'Term','Property_Area':'Area','Loan_Status':'Status'}, axis=1, inplace=True)"
   ]
  },
  {
   "cell_type": "code",
   "execution_count": 13,
   "metadata": {},
   "outputs": [],
   "source": [
    "df.rename({'CoapplicantIncome':'Coapplicant_Income'},axis=1,inplace=True)"
   ]
  },
  {
   "cell_type": "markdown",
   "metadata": {},
   "source": [
    "#### filling the null values present in different variables---- using mode, as the variables are categorical in nature."
   ]
  },
  {
   "cell_type": "code",
   "execution_count": 14,
   "metadata": {},
   "outputs": [
    {
     "name": "stdout",
     "output_type": "stream",
     "text": [
      "mode: Male\n"
     ]
    }
   ],
   "source": [
    "m=df['Gender'].mode()[0]\n",
    "print('mode:',m)\n",
    "df['Gender'].fillna(m,inplace=True)"
   ]
  },
  {
   "cell_type": "code",
   "execution_count": 15,
   "metadata": {},
   "outputs": [
    {
     "name": "stdout",
     "output_type": "stream",
     "text": [
      "mode: Yes\n"
     ]
    }
   ],
   "source": [
    "m1=df['Married'].mode()[0]\n",
    "print('mode:',m1)\n",
    "df['Married'].fillna(m1,inplace=True)"
   ]
  },
  {
   "cell_type": "code",
   "execution_count": 16,
   "metadata": {},
   "outputs": [
    {
     "name": "stdout",
     "output_type": "stream",
     "text": [
      "mode: 0\n"
     ]
    }
   ],
   "source": [
    "m2=df['Dependents'].mode()[0]\n",
    "print('mode:',m2)\n",
    "df['Dependents'].fillna(m2,inplace=True)"
   ]
  },
  {
   "cell_type": "code",
   "execution_count": 17,
   "metadata": {},
   "outputs": [
    {
     "name": "stdout",
     "output_type": "stream",
     "text": [
      "mode: No\n"
     ]
    }
   ],
   "source": [
    "m3=df['Self_Employed'].mode()[0]\n",
    "print('mode:',m3)\n",
    "df['Self_Employed'].fillna(m3,inplace=True)"
   ]
  },
  {
   "cell_type": "code",
   "execution_count": 18,
   "metadata": {},
   "outputs": [
    {
     "name": "stdout",
     "output_type": "stream",
     "text": [
      "mode: 120.0\n"
     ]
    }
   ],
   "source": [
    "m4=df['Loan_Amount'].mode()[0]\n",
    "print('mode:',m4)\n",
    "df['Loan_Amount'].fillna(m4,inplace=True)"
   ]
  },
  {
   "cell_type": "code",
   "execution_count": 19,
   "metadata": {},
   "outputs": [
    {
     "name": "stdout",
     "output_type": "stream",
     "text": [
      "mode: 360.0\n"
     ]
    }
   ],
   "source": [
    "m5=df['Term'].mode()[0]\n",
    "print('mode:',m5)\n",
    "df['Term'].fillna(m5,inplace=True)"
   ]
  },
  {
   "cell_type": "code",
   "execution_count": 20,
   "metadata": {},
   "outputs": [
    {
     "name": "stdout",
     "output_type": "stream",
     "text": [
      "mode: 1.0\n"
     ]
    }
   ],
   "source": [
    "m6=df['Credit_History'].mode()[0]\n",
    "print('mode:',m6)\n",
    "df['Credit_History'].fillna(m6,inplace=True)"
   ]
  },
  {
   "cell_type": "markdown",
   "metadata": {},
   "source": [
    "#### using Label Encoder to convert all the categorical values into numeric values."
   ]
  },
  {
   "cell_type": "code",
   "execution_count": 22,
   "metadata": {},
   "outputs": [],
   "source": [
    "from sklearn.preprocessing import LabelEncoder"
   ]
  },
  {
   "cell_type": "code",
   "execution_count": 27,
   "metadata": {},
   "outputs": [],
   "source": [
    "le=LabelEncoder()\n",
    "categ=['Gender','Married','Education','Self_Employed','Area','Status']\n",
    "df[categ] = df[categ].apply(le.fit_transform)"
   ]
  },
  {
   "cell_type": "code",
   "execution_count": 28,
   "metadata": {},
   "outputs": [
    {
     "data": {
      "text/html": [
       "<div>\n",
       "<style scoped>\n",
       "    .dataframe tbody tr th:only-of-type {\n",
       "        vertical-align: middle;\n",
       "    }\n",
       "\n",
       "    .dataframe tbody tr th {\n",
       "        vertical-align: top;\n",
       "    }\n",
       "\n",
       "    .dataframe thead th {\n",
       "        text-align: right;\n",
       "    }\n",
       "</style>\n",
       "<table border=\"1\" class=\"dataframe\">\n",
       "  <thead>\n",
       "    <tr style=\"text-align: right;\">\n",
       "      <th></th>\n",
       "      <th>Gender</th>\n",
       "      <th>Married</th>\n",
       "      <th>Dependents</th>\n",
       "      <th>Education</th>\n",
       "      <th>Self_Employed</th>\n",
       "      <th>Applicant_Income</th>\n",
       "      <th>Coapplicant_Income</th>\n",
       "      <th>Loan_Amount</th>\n",
       "      <th>Term</th>\n",
       "      <th>Credit_History</th>\n",
       "      <th>Area</th>\n",
       "      <th>Status</th>\n",
       "    </tr>\n",
       "  </thead>\n",
       "  <tbody>\n",
       "    <tr>\n",
       "      <th>0</th>\n",
       "      <td>1</td>\n",
       "      <td>0</td>\n",
       "      <td>0</td>\n",
       "      <td>0</td>\n",
       "      <td>0</td>\n",
       "      <td>5849</td>\n",
       "      <td>0.0</td>\n",
       "      <td>120.0</td>\n",
       "      <td>360.0</td>\n",
       "      <td>1.0</td>\n",
       "      <td>2</td>\n",
       "      <td>1</td>\n",
       "    </tr>\n",
       "    <tr>\n",
       "      <th>1</th>\n",
       "      <td>1</td>\n",
       "      <td>1</td>\n",
       "      <td>1</td>\n",
       "      <td>0</td>\n",
       "      <td>0</td>\n",
       "      <td>4583</td>\n",
       "      <td>1508.0</td>\n",
       "      <td>128.0</td>\n",
       "      <td>360.0</td>\n",
       "      <td>1.0</td>\n",
       "      <td>0</td>\n",
       "      <td>0</td>\n",
       "    </tr>\n",
       "    <tr>\n",
       "      <th>2</th>\n",
       "      <td>1</td>\n",
       "      <td>1</td>\n",
       "      <td>0</td>\n",
       "      <td>0</td>\n",
       "      <td>1</td>\n",
       "      <td>3000</td>\n",
       "      <td>0.0</td>\n",
       "      <td>66.0</td>\n",
       "      <td>360.0</td>\n",
       "      <td>1.0</td>\n",
       "      <td>2</td>\n",
       "      <td>1</td>\n",
       "    </tr>\n",
       "  </tbody>\n",
       "</table>\n",
       "</div>"
      ],
      "text/plain": [
       "   Gender  Married Dependents  Education  Self_Employed  Applicant_Income  \\\n",
       "0       1        0          0          0              0              5849   \n",
       "1       1        1          1          0              0              4583   \n",
       "2       1        1          0          0              1              3000   \n",
       "\n",
       "   Coapplicant_Income  Loan_Amount   Term  Credit_History  Area  Status  \n",
       "0                 0.0        120.0  360.0             1.0     2       1  \n",
       "1              1508.0        128.0  360.0             1.0     0       0  \n",
       "2                 0.0         66.0  360.0             1.0     2       1  "
      ]
     },
     "execution_count": 28,
     "metadata": {},
     "output_type": "execute_result"
    }
   ],
   "source": [
    "# Checking for transformed values.\n",
    "df.head(3)"
   ]
  },
  {
   "cell_type": "markdown",
   "metadata": {},
   "source": [
    "All the values are transformed into numerical."
   ]
  },
  {
   "cell_type": "code",
   "execution_count": 29,
   "metadata": {},
   "outputs": [
    {
     "name": "stdout",
     "output_type": "stream",
     "text": [
      "<class 'pandas.core.frame.DataFrame'>\n",
      "RangeIndex: 614 entries, 0 to 613\n",
      "Data columns (total 12 columns):\n",
      " #   Column              Non-Null Count  Dtype  \n",
      "---  ------              --------------  -----  \n",
      " 0   Gender              614 non-null    int32  \n",
      " 1   Married             614 non-null    int32  \n",
      " 2   Dependents          614 non-null    object \n",
      " 3   Education           614 non-null    int32  \n",
      " 4   Self_Employed       614 non-null    int32  \n",
      " 5   Applicant_Income    614 non-null    int64  \n",
      " 6   Coapplicant_Income  614 non-null    float64\n",
      " 7   Loan_Amount         614 non-null    float64\n",
      " 8   Term                614 non-null    float64\n",
      " 9   Credit_History      614 non-null    float64\n",
      " 10  Area                614 non-null    int32  \n",
      " 11  Status              614 non-null    int32  \n",
      "dtypes: float64(4), int32(6), int64(1), object(1)\n",
      "memory usage: 43.3+ KB\n"
     ]
    }
   ],
   "source": [
    "# Checking for the data type of the variables once again.\n",
    "df.info()"
   ]
  },
  {
   "cell_type": "markdown",
   "metadata": {},
   "source": [
    "it is seen that the variable 'Dependents' is still showing as object type even after having numeric values, hence converting it to int type."
   ]
  },
  {
   "cell_type": "code",
   "execution_count": 31,
   "metadata": {},
   "outputs": [
    {
     "data": {
      "text/plain": [
       "array(['0', '1', '2', '3+'], dtype=object)"
      ]
     },
     "execution_count": 31,
     "metadata": {},
     "output_type": "execute_result"
    }
   ],
   "source": [
    "# finding out the unique values present in teh Deendent variable\n",
    "df['Dependents'].unique()"
   ]
  },
  {
   "cell_type": "markdown",
   "metadata": {},
   "source": [
    "The variable Dependents has 4 unique values as 0,1,2,3+------------ 0,1,2 is ok with the analysis but 3+ might create trouble, hence converting it with the help of label encoder."
   ]
  },
  {
   "cell_type": "code",
   "execution_count": 32,
   "metadata": {},
   "outputs": [],
   "source": [
    "cate=['Dependents']\n",
    "df[cate] = df[cate].apply(le.fit_transform)"
   ]
  },
  {
   "cell_type": "markdown",
   "metadata": {},
   "source": [
    "### Splitting the data set into predictor(feature) variable (x) and target variable(y)"
   ]
  },
  {
   "cell_type": "code",
   "execution_count": 34,
   "metadata": {},
   "outputs": [
    {
     "data": {
      "text/html": [
       "<div>\n",
       "<style scoped>\n",
       "    .dataframe tbody tr th:only-of-type {\n",
       "        vertical-align: middle;\n",
       "    }\n",
       "\n",
       "    .dataframe tbody tr th {\n",
       "        vertical-align: top;\n",
       "    }\n",
       "\n",
       "    .dataframe thead th {\n",
       "        text-align: right;\n",
       "    }\n",
       "</style>\n",
       "<table border=\"1\" class=\"dataframe\">\n",
       "  <thead>\n",
       "    <tr style=\"text-align: right;\">\n",
       "      <th></th>\n",
       "      <th>Gender</th>\n",
       "      <th>Married</th>\n",
       "      <th>Dependents</th>\n",
       "      <th>Education</th>\n",
       "      <th>Self_Employed</th>\n",
       "      <th>Applicant_Income</th>\n",
       "      <th>Coapplicant_Income</th>\n",
       "      <th>Loan_Amount</th>\n",
       "      <th>Term</th>\n",
       "      <th>Credit_History</th>\n",
       "      <th>Area</th>\n",
       "    </tr>\n",
       "  </thead>\n",
       "  <tbody>\n",
       "    <tr>\n",
       "      <th>0</th>\n",
       "      <td>1</td>\n",
       "      <td>0</td>\n",
       "      <td>0</td>\n",
       "      <td>0</td>\n",
       "      <td>0</td>\n",
       "      <td>5849</td>\n",
       "      <td>0.0</td>\n",
       "      <td>120.0</td>\n",
       "      <td>360.0</td>\n",
       "      <td>1.0</td>\n",
       "      <td>2</td>\n",
       "    </tr>\n",
       "    <tr>\n",
       "      <th>1</th>\n",
       "      <td>1</td>\n",
       "      <td>1</td>\n",
       "      <td>1</td>\n",
       "      <td>0</td>\n",
       "      <td>0</td>\n",
       "      <td>4583</td>\n",
       "      <td>1508.0</td>\n",
       "      <td>128.0</td>\n",
       "      <td>360.0</td>\n",
       "      <td>1.0</td>\n",
       "      <td>0</td>\n",
       "    </tr>\n",
       "    <tr>\n",
       "      <th>2</th>\n",
       "      <td>1</td>\n",
       "      <td>1</td>\n",
       "      <td>0</td>\n",
       "      <td>0</td>\n",
       "      <td>1</td>\n",
       "      <td>3000</td>\n",
       "      <td>0.0</td>\n",
       "      <td>66.0</td>\n",
       "      <td>360.0</td>\n",
       "      <td>1.0</td>\n",
       "      <td>2</td>\n",
       "    </tr>\n",
       "    <tr>\n",
       "      <th>3</th>\n",
       "      <td>1</td>\n",
       "      <td>1</td>\n",
       "      <td>0</td>\n",
       "      <td>1</td>\n",
       "      <td>0</td>\n",
       "      <td>2583</td>\n",
       "      <td>2358.0</td>\n",
       "      <td>120.0</td>\n",
       "      <td>360.0</td>\n",
       "      <td>1.0</td>\n",
       "      <td>2</td>\n",
       "    </tr>\n",
       "    <tr>\n",
       "      <th>4</th>\n",
       "      <td>1</td>\n",
       "      <td>0</td>\n",
       "      <td>0</td>\n",
       "      <td>0</td>\n",
       "      <td>0</td>\n",
       "      <td>6000</td>\n",
       "      <td>0.0</td>\n",
       "      <td>141.0</td>\n",
       "      <td>360.0</td>\n",
       "      <td>1.0</td>\n",
       "      <td>2</td>\n",
       "    </tr>\n",
       "    <tr>\n",
       "      <th>...</th>\n",
       "      <td>...</td>\n",
       "      <td>...</td>\n",
       "      <td>...</td>\n",
       "      <td>...</td>\n",
       "      <td>...</td>\n",
       "      <td>...</td>\n",
       "      <td>...</td>\n",
       "      <td>...</td>\n",
       "      <td>...</td>\n",
       "      <td>...</td>\n",
       "      <td>...</td>\n",
       "    </tr>\n",
       "    <tr>\n",
       "      <th>609</th>\n",
       "      <td>0</td>\n",
       "      <td>0</td>\n",
       "      <td>0</td>\n",
       "      <td>0</td>\n",
       "      <td>0</td>\n",
       "      <td>2900</td>\n",
       "      <td>0.0</td>\n",
       "      <td>71.0</td>\n",
       "      <td>360.0</td>\n",
       "      <td>1.0</td>\n",
       "      <td>0</td>\n",
       "    </tr>\n",
       "    <tr>\n",
       "      <th>610</th>\n",
       "      <td>1</td>\n",
       "      <td>1</td>\n",
       "      <td>3</td>\n",
       "      <td>0</td>\n",
       "      <td>0</td>\n",
       "      <td>4106</td>\n",
       "      <td>0.0</td>\n",
       "      <td>40.0</td>\n",
       "      <td>180.0</td>\n",
       "      <td>1.0</td>\n",
       "      <td>0</td>\n",
       "    </tr>\n",
       "    <tr>\n",
       "      <th>611</th>\n",
       "      <td>1</td>\n",
       "      <td>1</td>\n",
       "      <td>1</td>\n",
       "      <td>0</td>\n",
       "      <td>0</td>\n",
       "      <td>8072</td>\n",
       "      <td>240.0</td>\n",
       "      <td>253.0</td>\n",
       "      <td>360.0</td>\n",
       "      <td>1.0</td>\n",
       "      <td>2</td>\n",
       "    </tr>\n",
       "    <tr>\n",
       "      <th>612</th>\n",
       "      <td>1</td>\n",
       "      <td>1</td>\n",
       "      <td>2</td>\n",
       "      <td>0</td>\n",
       "      <td>0</td>\n",
       "      <td>7583</td>\n",
       "      <td>0.0</td>\n",
       "      <td>187.0</td>\n",
       "      <td>360.0</td>\n",
       "      <td>1.0</td>\n",
       "      <td>2</td>\n",
       "    </tr>\n",
       "    <tr>\n",
       "      <th>613</th>\n",
       "      <td>0</td>\n",
       "      <td>0</td>\n",
       "      <td>0</td>\n",
       "      <td>0</td>\n",
       "      <td>1</td>\n",
       "      <td>4583</td>\n",
       "      <td>0.0</td>\n",
       "      <td>133.0</td>\n",
       "      <td>360.0</td>\n",
       "      <td>0.0</td>\n",
       "      <td>1</td>\n",
       "    </tr>\n",
       "  </tbody>\n",
       "</table>\n",
       "<p>614 rows × 11 columns</p>\n",
       "</div>"
      ],
      "text/plain": [
       "     Gender  Married  Dependents  Education  Self_Employed  Applicant_Income  \\\n",
       "0         1        0           0          0              0              5849   \n",
       "1         1        1           1          0              0              4583   \n",
       "2         1        1           0          0              1              3000   \n",
       "3         1        1           0          1              0              2583   \n",
       "4         1        0           0          0              0              6000   \n",
       "..      ...      ...         ...        ...            ...               ...   \n",
       "609       0        0           0          0              0              2900   \n",
       "610       1        1           3          0              0              4106   \n",
       "611       1        1           1          0              0              8072   \n",
       "612       1        1           2          0              0              7583   \n",
       "613       0        0           0          0              1              4583   \n",
       "\n",
       "     Coapplicant_Income  Loan_Amount   Term  Credit_History  Area  \n",
       "0                   0.0        120.0  360.0             1.0     2  \n",
       "1                1508.0        128.0  360.0             1.0     0  \n",
       "2                   0.0         66.0  360.0             1.0     2  \n",
       "3                2358.0        120.0  360.0             1.0     2  \n",
       "4                   0.0        141.0  360.0             1.0     2  \n",
       "..                  ...          ...    ...             ...   ...  \n",
       "609                 0.0         71.0  360.0             1.0     0  \n",
       "610                 0.0         40.0  180.0             1.0     0  \n",
       "611               240.0        253.0  360.0             1.0     2  \n",
       "612                 0.0        187.0  360.0             1.0     2  \n",
       "613                 0.0        133.0  360.0             0.0     1  \n",
       "\n",
       "[614 rows x 11 columns]"
      ]
     },
     "execution_count": 34,
     "metadata": {},
     "output_type": "execute_result"
    }
   ],
   "source": [
    "x=df.iloc[:,0:11]\n",
    "x"
   ]
  },
  {
   "cell_type": "code",
   "execution_count": 35,
   "metadata": {},
   "outputs": [
    {
     "data": {
      "text/plain": [
       "0      1\n",
       "1      0\n",
       "2      1\n",
       "3      1\n",
       "4      1\n",
       "      ..\n",
       "609    1\n",
       "610    1\n",
       "611    1\n",
       "612    1\n",
       "613    0\n",
       "Name: Status, Length: 614, dtype: int32"
      ]
     },
     "execution_count": 35,
     "metadata": {},
     "output_type": "execute_result"
    }
   ],
   "source": [
    "y=df.iloc[:,-1]\n",
    "y"
   ]
  },
  {
   "cell_type": "code",
   "execution_count": 36,
   "metadata": {},
   "outputs": [
    {
     "data": {
      "text/plain": [
       "1    422\n",
       "0    192\n",
       "Name: Status, dtype: int64"
      ]
     },
     "execution_count": 36,
     "metadata": {},
     "output_type": "execute_result"
    }
   ],
   "source": [
    "# finding out the number of appicants present in the target variable.\n",
    "y.value_counts()"
   ]
  },
  {
   "cell_type": "code",
   "execution_count": 37,
   "metadata": {},
   "outputs": [
    {
     "data": {
      "text/plain": [
       "<AxesSubplot:xlabel='Status', ylabel='count'>"
      ]
     },
     "execution_count": 37,
     "metadata": {},
     "output_type": "execute_result"
    },
    {
     "data": {
      "image/png": "[encoded data removed]",
      "text/plain": [
       "<Figure size 432x288 with 1 Axes>"
      ]
     },
     "metadata": {
      "needs_background": "light"
     },
     "output_type": "display_data"
    }
   ],
   "source": [
    "sns.countplot(y)"
   ]
  },
  {
   "cell_type": "markdown",
   "metadata": {},
   "source": [
    "here total number of Zeros are not equal one or not even close hence model will be baised as more number of zeros are present (0--not approved, 1--yes approved)"
   ]
  },
  {
   "cell_type": "markdown",
   "metadata": {},
   "source": [
    "### Applying SMOTE as this is a imbalanced dataset"
   ]
  },
  {
   "cell_type": "code",
   "execution_count": 38,
   "metadata": {},
   "outputs": [],
   "source": [
    "from imblearn.over_sampling import SMOTE"
   ]
  },
  {
   "cell_type": "code",
   "execution_count": 39,
   "metadata": {},
   "outputs": [],
   "source": [
    "smt=SMOTE()\n",
    "trainx,trainy=smt.fit_resample(x,y)"
   ]
  },
  {
   "cell_type": "code",
   "execution_count": 40,
   "metadata": {},
   "outputs": [
    {
     "data": {
      "text/plain": [
       "Gender  Married  Dependents  Education  Self_Employed  Applicant_Income  Coapplicant_Income  Loan_Amount  Term        Credit_History  Area\n",
       "0       0        0           0          0              645               3683.000000         113.000000   480.000000  1.000000        0       1\n",
       "1       1        0           1          0              2917              536.000000          66.000000    360.000000  1.000000        0       1\n",
       "                             0          1              5818              2160.000000         184.000000   360.000000  1.000000        1       1\n",
       "                                                       9560              0.000000            191.000000   360.000000  1.000000        1       1\n",
       "                                                       9963              0.000000            180.000000   360.000000  1.000000        0       1\n",
       "                                                                                                                                             ..\n",
       "        0        0           0          0              6277              0.000000            118.000000   360.000000  0.000000        0       1\n",
       "                                                       6283              4416.000000         209.000000   360.000000  0.000000        0       1\n",
       "                                                       6351              6845.057684         171.670710   335.012130  0.138822        2       1\n",
       "                                                       6398              7240.042515         179.795184   359.385551  0.003414        2       1\n",
       "        1        3           1          1              7100              0.000000            125.000000   60.000000   1.000000        2       1\n",
       "Length: 844, dtype: int64"
      ]
     },
     "execution_count": 40,
     "metadata": {},
     "output_type": "execute_result"
    }
   ],
   "source": [
    "# checking for the changed values after applying SMOTE\n",
    "trainx.value_counts()"
   ]
  },
  {
   "cell_type": "markdown",
   "metadata": {},
   "source": [
    "From the above analysis it is clear that total number of rows are now increased to 844. now checking with the target varaible."
   ]
  },
  {
   "cell_type": "code",
   "execution_count": 41,
   "metadata": {},
   "outputs": [
    {
     "data": {
      "text/plain": [
       "1    422\n",
       "0    422\n",
       "Name: Status, dtype: int64"
      ]
     },
     "execution_count": 41,
     "metadata": {},
     "output_type": "execute_result"
    }
   ],
   "source": [
    "# Checking for the value count in the target variable.\n",
    "trainy.value_counts()"
   ]
  },
  {
   "cell_type": "markdown",
   "metadata": {},
   "source": [
    "The above analysis shows that the number of rows with '0' and '1' are now equal, hence the baisness is reduced."
   ]
  },
  {
   "cell_type": "code",
   "execution_count": 42,
   "metadata": {},
   "outputs": [
    {
     "data": {
      "text/plain": [
       "<AxesSubplot:xlabel='Status', ylabel='count'>"
      ]
     },
     "execution_count": 42,
     "metadata": {},
     "output_type": "execute_result"
    },
    {
     "data": {
      "image/png": "[encoded data removed]",
      "text/plain": [
       "<Figure size 432x288 with 1 Axes>"
      ]
     },
     "metadata": {
      "needs_background": "light"
     },
     "output_type": "display_data"
    }
   ],
   "source": [
    "# Confirming the number of value count with the help of countplot\n",
    "sns.countplot(trainy)"
   ]
  },
  {
   "cell_type": "markdown",
   "metadata": {},
   "source": [
    "### Standardising the Data:  Normalising the data "
   ]
  },
  {
   "cell_type": "code",
   "execution_count": 43,
   "metadata": {},
   "outputs": [],
   "source": [
    "from sklearn.preprocessing import StandardScaler"
   ]
  },
  {
   "cell_type": "code",
   "execution_count": 44,
   "metadata": {},
   "outputs": [],
   "source": [
    "scale=StandardScaler()\n",
    "trainx=scale.fit_transform(trainx)"
   ]
  },
  {
   "cell_type": "markdown",
   "metadata": {},
   "source": [
    "### Splitting the data set into training and testing parts"
   ]
  },
  {
   "cell_type": "code",
   "execution_count": 45,
   "metadata": {},
   "outputs": [],
   "source": [
    "from sklearn.model_selection import train_test_split"
   ]
  },
  {
   "cell_type": "code",
   "execution_count": 46,
   "metadata": {},
   "outputs": [],
   "source": [
    "xtrain,xtest,ytrain,ytest = train_test_split(trainx,trainy,test_size=.30,random_state=45)"
   ]
  },
  {
   "cell_type": "code",
   "execution_count": 47,
   "metadata": {},
   "outputs": [
    {
     "data": {
      "text/plain": [
       "(590, 11)"
      ]
     },
     "execution_count": 47,
     "metadata": {},
     "output_type": "execute_result"
    }
   ],
   "source": [
    "xtrain.shape"
   ]
  },
  {
   "cell_type": "code",
   "execution_count": 48,
   "metadata": {},
   "outputs": [
    {
     "data": {
      "text/plain": [
       "(590,)"
      ]
     },
     "execution_count": 48,
     "metadata": {},
     "output_type": "execute_result"
    }
   ],
   "source": [
    "ytrain.shape"
   ]
  },
  {
   "cell_type": "code",
   "execution_count": 49,
   "metadata": {},
   "outputs": [
    {
     "data": {
      "text/plain": [
       "(254, 11)"
      ]
     },
     "execution_count": 49,
     "metadata": {},
     "output_type": "execute_result"
    }
   ],
   "source": [
    "xtest.shape"
   ]
  },
  {
   "cell_type": "code",
   "execution_count": 50,
   "metadata": {},
   "outputs": [
    {
     "data": {
      "text/plain": [
       "(254,)"
      ]
     },
     "execution_count": 50,
     "metadata": {},
     "output_type": "execute_result"
    }
   ],
   "source": [
    "ytest.shape"
   ]
  },
  {
   "cell_type": "markdown",
   "metadata": {},
   "source": [
    "### Fitting different models"
   ]
  },
  {
   "cell_type": "code",
   "execution_count": 53,
   "metadata": {},
   "outputs": [],
   "source": [
    "from sklearn.svm import SVC\n",
    "from sklearn import svm \n",
    "from sklearn.tree import DecisionTreeClassifier\n",
    "from sklearn.neighbors import KNeighborsClassifier\n",
    "from sklearn.linear_model import LogisticRegression\n",
    "from sklearn.ensemble import RandomForestClassifier\n",
    "from sklearn.ensemble import AdaBoostClassifier\n",
    "\n",
    "from sklearn.model_selection import KFold\n",
    "from sklearn.metrics import roc_curve\n",
    "\n",
    "\n",
    "from sklearn.metrics import accuracy_score,confusion_matrix,classification_report\n",
    "from sklearn.model_selection import cross_val_score\n",
    "from sklearn.metrics import roc_auc_score"
   ]
  },
  {
   "cell_type": "code",
   "execution_count": 54,
   "metadata": {},
   "outputs": [
    {
     "name": "stdout",
     "output_type": "stream",
     "text": [
      "0.8\n",
      "0.7952755905511811\n",
      "[[ 77  42]\n",
      " [ 10 125]]\n",
      "              precision    recall  f1-score   support\n",
      "\n",
      "           0       0.89      0.65      0.75       119\n",
      "           1       0.75      0.93      0.83       135\n",
      "\n",
      "    accuracy                           0.80       254\n",
      "   macro avg       0.82      0.79      0.79       254\n",
      "weighted avg       0.81      0.80      0.79       254\n",
      "\n"
     ]
    }
   ],
   "source": [
    "sv=svm.SVC()\n",
    "sv.fit(xtrain,ytrain)\n",
    "t=sv.score(xtrain,ytrain)\n",
    "print(round(t,2))\n",
    "\n",
    "predsvc=sv.predict(xtest)\n",
    "print(accuracy_score(ytest,predsvc))\n",
    "print(confusion_matrix(ytest,predsvc))\n",
    "print(classification_report(ytest,predsvc))"
   ]
  },
  {
   "cell_type": "code",
   "execution_count": 55,
   "metadata": {},
   "outputs": [
    {
     "name": "stdout",
     "output_type": "stream",
     "text": [
      "0.7795275590551181\n",
      "[[ 95  24]\n",
      " [ 32 103]]\n",
      "              precision    recall  f1-score   support\n",
      "\n",
      "           0       0.75      0.80      0.77       119\n",
      "           1       0.81      0.76      0.79       135\n",
      "\n",
      "    accuracy                           0.78       254\n",
      "   macro avg       0.78      0.78      0.78       254\n",
      "weighted avg       0.78      0.78      0.78       254\n",
      "\n"
     ]
    }
   ],
   "source": [
    "dtc = DecisionTreeClassifier()\n",
    "dtc.fit(xtrain,ytrain)\n",
    "dtc.score(xtrain,ytrain)\n",
    "preddtc=dtc.predict(xtest)\n",
    "print(accuracy_score(ytest,preddtc))\n",
    "print(confusion_matrix(ytest,preddtc))\n",
    "print(classification_report(ytest,preddtc))"
   ]
  },
  {
   "cell_type": "code",
   "execution_count": 56,
   "metadata": {},
   "outputs": [
    {
     "name": "stdout",
     "output_type": "stream",
     "text": [
      "0.7834645669291339\n",
      "[[ 80  39]\n",
      " [ 16 119]]\n",
      "              precision    recall  f1-score   support\n",
      "\n",
      "           0       0.83      0.67      0.74       119\n",
      "           1       0.75      0.88      0.81       135\n",
      "\n",
      "    accuracy                           0.78       254\n",
      "   macro avg       0.79      0.78      0.78       254\n",
      "weighted avg       0.79      0.78      0.78       254\n",
      "\n"
     ]
    }
   ],
   "source": [
    "# k=5\n",
    "knn=KNeighborsClassifier(n_neighbors=5)\n",
    "knn.fit(xtrain,ytrain)\n",
    "knn.score(xtrain,ytrain)\n",
    "predknn=knn.predict(xtest)\n",
    "print(accuracy_score(ytest,predknn))\n",
    "print(confusion_matrix(ytest,predknn))\n",
    "print(classification_report(ytest,predknn))"
   ]
  },
  {
   "cell_type": "code",
   "execution_count": 57,
   "metadata": {},
   "outputs": [
    {
     "name": "stdout",
     "output_type": "stream",
     "text": [
      "0.7874015748031497\n",
      "[[ 81  38]\n",
      " [ 16 119]]\n",
      "              precision    recall  f1-score   support\n",
      "\n",
      "           0       0.84      0.68      0.75       119\n",
      "           1       0.76      0.88      0.82       135\n",
      "\n",
      "    accuracy                           0.79       254\n",
      "   macro avg       0.80      0.78      0.78       254\n",
      "weighted avg       0.79      0.79      0.78       254\n",
      "\n"
     ]
    }
   ],
   "source": [
    "# k=3\n",
    "knn=KNeighborsClassifier(n_neighbors=3)\n",
    "knn.fit(xtrain,ytrain)\n",
    "knn.score(xtrain,ytrain)\n",
    "predknn=knn.predict(xtest)\n",
    "print(accuracy_score(ytest,predknn))\n",
    "print(confusion_matrix(ytest,predknn))\n",
    "print(classification_report(ytest,predknn))"
   ]
  },
  {
   "cell_type": "code",
   "execution_count": 58,
   "metadata": {},
   "outputs": [
    {
     "name": "stdout",
     "output_type": "stream",
     "text": [
      "accuracy_score : 0.7952755905511811\n",
      "[[ 77  42]\n",
      " [ 10 125]]\n",
      "              precision    recall  f1-score   support\n",
      "\n",
      "           0       0.89      0.65      0.75       119\n",
      "           1       0.75      0.93      0.83       135\n",
      "\n",
      "    accuracy                           0.80       254\n",
      "   macro avg       0.82      0.79      0.79       254\n",
      "weighted avg       0.81      0.80      0.79       254\n",
      "\n"
     ]
    }
   ],
   "source": [
    "lg=LogisticRegression()\n",
    "lg.fit(xtrain,ytrain)\n",
    "pred=lg.predict(xtest)\n",
    "print(\"accuracy_score :\",accuracy_score(pred,ytest))\n",
    "print(confusion_matrix(ytest,pred))\n",
    "print(classification_report(ytest,pred))"
   ]
  },
  {
   "cell_type": "markdown",
   "metadata": {},
   "source": [
    "The accuracy scores of Support Vector Classifier and Logistic Regression are same as 79.52%. The f1 score is also same as 75% with the precision rate of 89%. now moving ahead with Ensemble Techniques to improve upon th scores intrun improving the model performance.  "
   ]
  },
  {
   "cell_type": "markdown",
   "metadata": {},
   "source": [
    "### Ensenble Techniques"
   ]
  },
  {
   "cell_type": "code",
   "execution_count": 59,
   "metadata": {},
   "outputs": [
    {
     "name": "stdout",
     "output_type": "stream",
     "text": [
      "0.8582677165354331\n",
      "[[ 93  26]\n",
      " [ 10 125]]\n",
      "              precision    recall  f1-score   support\n",
      "\n",
      "           0       0.90      0.78      0.84       119\n",
      "           1       0.83      0.93      0.87       135\n",
      "\n",
      "    accuracy                           0.86       254\n",
      "   macro avg       0.87      0.85      0.86       254\n",
      "weighted avg       0.86      0.86      0.86       254\n",
      "\n"
     ]
    }
   ],
   "source": [
    "rfc=RandomForestClassifier()\n",
    "rfc.fit(xtrain,ytrain)\n",
    "rfc.score(xtrain,ytrain)\n",
    "predrfc=rfc.predict(xtest)\n",
    "print(accuracy_score(ytest,predrfc))\n",
    "print(confusion_matrix(ytest,predrfc))\n",
    "print(classification_report(ytest,predrfc))"
   ]
  },
  {
   "cell_type": "code",
   "execution_count": 60,
   "metadata": {},
   "outputs": [
    {
     "name": "stdout",
     "output_type": "stream",
     "text": [
      "0.8188976377952756\n",
      "[[ 86  33]\n",
      " [ 13 122]]\n",
      "              precision    recall  f1-score   support\n",
      "\n",
      "           0       0.87      0.72      0.79       119\n",
      "           1       0.79      0.90      0.84       135\n",
      "\n",
      "    accuracy                           0.82       254\n",
      "   macro avg       0.83      0.81      0.82       254\n",
      "weighted avg       0.83      0.82      0.82       254\n",
      "\n"
     ]
    }
   ],
   "source": [
    "abc=AdaBoostClassifier()\n",
    "abc.fit(xtrain,ytrain)\n",
    "abc.score(xtrain,ytrain)\n",
    "predabc=abc.predict(xtest)\n",
    "print(accuracy_score(ytest,predabc))\n",
    "print(confusion_matrix(ytest,predabc))\n",
    "print(classification_report(ytest,predabc))"
   ]
  },
  {
   "cell_type": "markdown",
   "metadata": {},
   "source": [
    "From the scores of above to ensemble techniques, the scores of Random Forest Classifier is coming as best. Teh accuracy score is 81.88%, f1 score is 79%with the precision rate of 87%. Hence going ahead for cross validation of Random Forest Classifier."
   ]
  },
  {
   "cell_type": "markdown",
   "metadata": {},
   "source": [
    "### Cross Validation"
   ]
  },
  {
   "cell_type": "code",
   "execution_count": 61,
   "metadata": {},
   "outputs": [
    {
     "name": "stdout",
     "output_type": "stream",
     "text": [
      "[0.71597633 0.73964497 0.85798817 0.84615385 0.89285714]\n",
      "0.810524091293322\n",
      "0.06966229662233074\n"
     ]
    }
   ],
   "source": [
    "score=cross_val_score(rfc,trainx,trainy,cv=5)\n",
    "print(score)\n",
    "print(score.mean())\n",
    "print(score.std())"
   ]
  },
  {
   "cell_type": "code",
   "execution_count": 62,
   "metadata": {},
   "outputs": [],
   "source": [
    "from sklearn.model_selection import KFold"
   ]
  },
  {
   "cell_type": "code",
   "execution_count": 63,
   "metadata": {},
   "outputs": [
    {
     "name": "stdout",
     "output_type": "stream",
     "text": [
      "[0.77647059 0.76470588 0.74117647 0.8        0.80952381 0.70238095\n",
      " 0.85714286 0.89285714 0.88095238 0.89285714]\n",
      "0.8118067226890755\n",
      "0.06367825534179992\n"
     ]
    }
   ],
   "source": [
    "KFold=KFold(10)\n",
    "score=cross_val_score(rfc,trainx,trainy,cv=KFold)\n",
    "print(score)\n",
    "print(score.mean())\n",
    "print(score.std())"
   ]
  },
  {
   "cell_type": "markdown",
   "metadata": {},
   "source": [
    "The Cross Validation Scores of Rndom Forest Classifier are satisfactory as the mean score is 81.18% with the standard deviation as 0.06. Hence moving ahead with Hyper Parametric Tuning"
   ]
  },
  {
   "cell_type": "markdown",
   "metadata": {},
   "source": [
    "### Hyper Parametric Tuning"
   ]
  },
  {
   "cell_type": "code",
   "execution_count": 66,
   "metadata": {},
   "outputs": [],
   "source": [
    "from sklearn.model_selection import GridSearchCV"
   ]
  },
  {
   "cell_type": "code",
   "execution_count": 64,
   "metadata": {},
   "outputs": [],
   "source": [
    "param_grid = {  'bootstrap': [True], \n",
    "              'max_depth': [5, 10, None], \n",
    "              'max_features': ['auto', 'log2','sqrt',None], \n",
    "              'n_estimators': [10, 20, 30, 40, 50, 60, 70, 80, 90, 100]}"
   ]
  },
  {
   "cell_type": "code",
   "execution_count": 67,
   "metadata": {},
   "outputs": [],
   "source": [
    "g_search = GridSearchCV(estimator = rfc, \n",
    "                        param_grid = param_grid, \n",
    "                        cv = 3, \n",
    "                        n_jobs = 1,\n",
    "                        verbose = 0, \n",
    "                        return_train_score=True)"
   ]
  },
  {
   "cell_type": "code",
   "execution_count": 68,
   "metadata": {},
   "outputs": [],
   "source": [
    "g_search.fit(xtrain, ytrain);"
   ]
  },
  {
   "cell_type": "code",
   "execution_count": 69,
   "metadata": {},
   "outputs": [
    {
     "name": "stdout",
     "output_type": "stream",
     "text": [
      "{'bootstrap': True, 'max_depth': 5, 'max_features': 'log2', 'n_estimators': 70}\n"
     ]
    }
   ],
   "source": [
    "print(g_search.best_params_)"
   ]
  },
  {
   "cell_type": "code",
   "execution_count": 72,
   "metadata": {},
   "outputs": [
    {
     "name": "stdout",
     "output_type": "stream",
     "text": [
      "modelrfc score: 0.8322033898305085\n",
      "accuraccy score =  0.8307086614173228\n",
      "[[ 81  38]\n",
      " [  5 130]]\n",
      "              precision    recall  f1-score   support\n",
      "\n",
      "           0       0.94      0.68      0.79       119\n",
      "           1       0.77      0.96      0.86       135\n",
      "\n",
      "    accuracy                           0.83       254\n",
      "   macro avg       0.86      0.82      0.82       254\n",
      "weighted avg       0.85      0.83      0.83       254\n",
      "\n"
     ]
    }
   ],
   "source": [
    "modelrfc=RandomForestClassifier(bootstrap= True, max_depth= 5, max_features= 'log2', n_estimators=70 )\n",
    "modelrfc.fit(xtrain,ytrain)\n",
    "print('modelrfc score:',modelrfc.score(xtrain,ytrain))\n",
    "\n",
    "modelrfcpredict=modelrfc.predict(xtest)\n",
    "print('accuraccy score = ',accuracy_score(ytest,modelrfcpredict))\n",
    "print(confusion_matrix(ytest,modelrfcpredict))\n",
    "print(classification_report(ytest,modelrfcpredict))"
   ]
  },
  {
   "cell_type": "markdown",
   "metadata": {},
   "source": [
    "After Tuning the Hyer parameters, The accuracy score comes out to be 83% with the f1 sore as 79%, with the improved precision rate of 94% as compared to previous precision rate of 90%. Now moving ahead with AUC-Roc to find out How god the model is working"
   ]
  },
  {
   "cell_type": "markdown",
   "metadata": {},
   "source": [
    "### Applying AUC-ROC "
   ]
  },
  {
   "cell_type": "markdown",
   "metadata": {},
   "source": [
    "Applying the AUC-ROC on the Random Forest Classifier without Hypertuned model as it is giving the better accuracy score and f1 score."
   ]
  },
  {
   "cell_type": "code",
   "execution_count": 77,
   "metadata": {},
   "outputs": [
    {
     "name": "stdout",
     "output_type": "stream",
     "text": [
      "The predicted probailities are: [0.55 0.83 0.68 0.79 0.82 0.82 0.97 0.67 0.57 0.83 0.64 0.09 0.03 0.06\n",
      " 0.6  0.82 0.36 0.6  0.05 0.47 0.72 0.88 0.82 0.26 0.04 0.46 0.92 0.68\n",
      " 0.75 0.75 0.03 0.06 0.81 0.11 0.04 0.05 0.8  0.74 0.08 0.23 0.56 0.29\n",
      " 0.58 0.79 0.04 0.85 0.69 0.85 0.3  0.68 0.67 0.26 0.66 0.72 0.41 0.84\n",
      " 0.07 0.9  0.8  0.65 0.02 0.71 0.93 0.79 0.68 0.69 0.08 0.88 0.13 0.74\n",
      " 0.92 0.48 0.8  0.03 0.57 0.71 0.57 0.7  0.43 0.17 0.89 0.76 0.26 0.23\n",
      " 0.04 0.56 0.7  0.05 0.61 0.9  0.28 0.76 0.   0.02 0.4  0.77 0.04 0.77\n",
      " 0.79 0.55 0.65 0.44 0.47 0.02 0.79 0.7  0.89 0.16 0.73 0.   0.13 0.25\n",
      " 0.6  0.14 0.86 0.8  0.01 0.94 0.67 0.72 0.02 0.25 0.02 0.86 0.77 0.3\n",
      " 0.81 0.89 0.6  0.03 0.74 0.43 0.49 0.64 0.5  0.72 0.89 0.78 0.05 0.62\n",
      " 0.58 0.14 0.04 0.88 0.77 0.24 0.82 0.02 0.77 0.84 0.03 0.07 0.81 0.78\n",
      " 0.72 0.8  0.91 0.78 0.03 0.88 0.6  0.58 0.02 0.65 0.82 0.98 0.04 0.91\n",
      " 0.85 0.22 0.41 0.72 0.39 0.68 0.84 0.59 0.71 0.91 0.88 0.06 0.48 0.44\n",
      " 0.53 0.76 0.04 0.75 0.5  0.64 0.05 0.95 0.06 0.77 0.15 0.11 0.   0.74\n",
      " 0.2  0.   0.88 0.65 0.08 0.24 0.86 0.69 0.12 0.65 0.9  0.05 0.67 0.93\n",
      " 0.08 0.79 0.75 0.05 0.66 0.87 0.88 0.8  0.9  0.76 0.01 0.73 0.38 0.85\n",
      " 0.7  0.54 0.5  0.75 0.37 0.68 0.98 0.92 0.34 0.83 0.19 0.83 0.7  0.07\n",
      " 0.53 0.15 0.23 0.6  0.72 0.   0.06 0.91 0.02 0.69 0.07 0.1  0.04 0.03\n",
      " 0.57 0.14]\n",
      "The fpr values: [0.         0.         0.         0.         0.         0.\n",
      " 0.00840336 0.00840336 0.00840336 0.01680672 0.02521008 0.03361345\n",
      " 0.05042017 0.05042017 0.05042017 0.05882353 0.05882353 0.05882353\n",
      " 0.06722689 0.06722689 0.06722689 0.06722689 0.09243697 0.09243697\n",
      " 0.10084034 0.10084034 0.10084034 0.1092437  0.1092437  0.11764706\n",
      " 0.12605042 0.12605042 0.13445378 0.15966387 0.15966387 0.15966387\n",
      " 0.18487395 0.20168067 0.21008403 0.21008403 0.21848739 0.22689076\n",
      " 0.23529412 0.23529412 0.24369748 0.24369748 0.2605042  0.26890756\n",
      " 0.28571429 0.33613445 0.35294118 0.35294118 0.36134454 0.37815126\n",
      " 0.41176471 0.43697479 0.4789916  0.49579832 0.5210084  0.52941176\n",
      " 0.53781513 0.55462185 0.57142857 0.63865546 0.68067227 0.7394958\n",
      " 0.81512605 0.87394958 0.94117647 0.95798319 1.        ]\n",
      "The tpr values: [0.         0.01481481 0.03703704 0.05185185 0.07407407 0.16296296\n",
      " 0.20740741 0.21481481 0.23703704 0.25925926 0.27407407 0.2962963\n",
      " 0.32592593 0.34814815 0.39259259 0.42962963 0.45185185 0.4962963\n",
      " 0.51851852 0.55555556 0.58518519 0.6        0.62962963 0.65185185\n",
      " 0.68148148 0.71111111 0.75555556 0.77777778 0.79259259 0.82222222\n",
      " 0.83703704 0.84444444 0.84444444 0.86666667 0.87407407 0.8962963\n",
      " 0.9037037  0.9037037  0.91111111 0.91851852 0.92592593 0.94074074\n",
      " 0.94074074 0.95555556 0.96296296 0.97037037 0.97037037 0.97777778\n",
      " 0.97777778 0.97777778 0.97777778 0.98518519 0.98518519 0.99259259\n",
      " 0.99259259 0.99259259 0.99259259 0.99259259 0.99259259 1.\n",
      " 1.         1.         1.         1.         1.         1.\n",
      " 1.         1.         1.         1.         1.        ]\n",
      "The threshold values are: [1.98 0.98 0.94 0.93 0.92 0.89 0.88 0.87 0.86 0.85 0.84 0.83 0.82 0.81\n",
      " 0.8  0.79 0.78 0.77 0.76 0.75 0.74 0.73 0.72 0.71 0.7  0.69 0.68 0.67\n",
      " 0.66 0.65 0.64 0.62 0.61 0.6  0.59 0.58 0.57 0.56 0.55 0.54 0.53 0.5\n",
      " 0.49 0.48 0.47 0.46 0.44 0.43 0.41 0.34 0.3  0.29 0.28 0.26 0.24 0.23\n",
      " 0.16 0.15 0.14 0.13 0.12 0.11 0.09 0.07 0.06 0.05 0.04 0.03 0.02 0.01\n",
      " 0.  ]\n"
     ]
    }
   ],
   "source": [
    "y_pred_prob=rfc.predict_proba(xtest)[:,1]\n",
    "print('The predicted probailities are:',y_pred_prob)\n",
    "fpr,tpr,thresholds=roc_curve(ytest,y_pred_prob)\n",
    "print('The fpr values:',fpr)\n",
    "print('The tpr values:',tpr)\n",
    "print('The threshold values are:',thresholds)"
   ]
  },
  {
   "cell_type": "code",
   "execution_count": 78,
   "metadata": {},
   "outputs": [
    {
     "data": {
      "image/png": "[encoded data removed]",
      "text/plain": [
       "<Figure size 432x288 with 1 Axes>"
      ]
     },
     "metadata": {
      "needs_background": "light"
     },
     "output_type": "display_data"
    }
   ],
   "source": [
    "plt.plot([0,1],[0,1],'k--')\n",
    "plt.plot(fpr,tpr,label='RandomForest Classifier')\n",
    "plt.xlabel('False positive rate')\n",
    "plt.ylabel('True positive rate')\n",
    "plt.title('Random Forest Classifier')\n",
    "plt.show()"
   ]
  },
  {
   "cell_type": "code",
   "execution_count": 79,
   "metadata": {},
   "outputs": [],
   "source": [
    "auc_score=roc_auc_score(ytest,rfc.predict(xtest))"
   ]
  },
  {
   "cell_type": "code",
   "execution_count": 80,
   "metadata": {},
   "outputs": [
    {
     "name": "stdout",
     "output_type": "stream",
     "text": [
      "0.8537192654839714\n"
     ]
    }
   ],
   "source": [
    "print(auc_score)"
   ]
  },
  {
   "cell_type": "markdown",
   "metadata": {},
   "source": [
    "The AUC Score is coming as 85% hence saving the model for further use."
   ]
  },
  {
   "cell_type": "markdown",
   "metadata": {},
   "source": [
    "### Saving the Model  "
   ]
  },
  {
   "cell_type": "code",
   "execution_count": 81,
   "metadata": {},
   "outputs": [
    {
     "name": "stdout",
     "output_type": "stream",
     "text": [
      "[1 1 1 1 1 1 1 1 1 1 1 0 0 0 1 1 0 1 0 0 1 1 1 0 0 0 1 1 1 1 0 0 1 0 0 0 1\n",
      " 1 0 0 1 0 1 1 0 1 1 1 0 1 1 0 1 1 0 1 0 1 1 1 0 1 1 1 1 1 0 1 0 1 1 0 1 0\n",
      " 1 1 1 1 0 0 1 1 0 0 0 1 1 0 1 1 0 1 0 0 0 1 0 1 1 1 1 0 0 0 1 1 1 0 1 0 0\n",
      " 0 1 0 1 1 0 1 1 1 0 0 0 1 1 0 1 1 1 0 1 0 0 1 0 1 1 1 0 1 1 0 0 1 1 0 1 0\n",
      " 1 1 0 0 1 1 1 1 1 1 0 1 1 1 0 1 1 1 0 1 1 0 0 1 0 1 1 1 1 1 1 0 0 0 1 1 0\n",
      " 1 0 1 0 1 0 1 0 0 0 1 0 0 1 1 0 0 1 1 0 1 1 0 1 1 0 1 1 0 1 1 1 1 1 1 0 1\n",
      " 0 1 1 1 0 1 0 1 1 1 0 1 0 1 1 0 1 0 0 1 1 0 0 1 0 1 0 0 0 0 1 0]\n"
     ]
    }
   ],
   "source": [
    "import joblib\n",
    "\n",
    "joblib.dump(rfc,'rfc_LoanApplication_model.obj')\n",
    "\n",
    "rfcloadmodel=joblib.load('rfc_LoanApplication_model.obj')\n",
    "pred=rfcloadmodel.predict(xtest)\n",
    "print(pred)"
   ]
  },
  {
   "cell_type": "code",
   "execution_count": null,
   "metadata": {},
   "outputs": [],
   "source": []
  },
  {
   "cell_type": "code",
   "execution_count": null,
   "metadata": {},
   "outputs": [],
   "source": []
  }
 ],
 "metadata": {
  "kernelspec": {
   "display_name": "Python 3",
   "language": "python",
   "name": "python3"
  },
  "language_info": {
   "codemirror_mode": {
    "name": "ipython",
    "version": 3
   },
   "file_extension": ".py",
   "mimetype": "text/x-python",
   "name": "python",
   "nbconvert_exporter": "python",
   "pygments_lexer": "ipython3",
   "version": "3.8.5"
  }
 },
 "nbformat": 4,
 "nbformat_minor": 4
}
